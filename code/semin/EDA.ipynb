{
 "cells": [
  {
   "cell_type": "code",
   "execution_count": null,
   "id": "24d6fef6-39f6-428d-934b-b1f58a538d80",
   "metadata": {},
   "outputs": [],
   "source": [
    "#!pip install matplotlib"
   ]
  },
  {
   "cell_type": "code",
   "execution_count": null,
   "id": "4e55c6bf-1a20-40c1-9b8c-42b41019dedb",
   "metadata": {},
   "outputs": [],
   "source": [
    "import pandas as pd\n",
    "from PIL import Image, ImageOps\n",
    "import numpy as np\n",
    "import matplotlib.pyplot as plt"
   ]
  },
  {
   "cell_type": "code",
   "execution_count": null,
   "id": "cfff24b0-186f-4964-9a43-6a973be43691",
   "metadata": {},
   "outputs": [],
   "source": [
    "data_path = '/opt/ml/input/data/train_dataset/'"
   ]
  },
  {
   "cell_type": "code",
   "execution_count": null,
   "id": "30a774a1-395f-4a23-aff9-7c87e3882a0a",
   "metadata": {},
   "outputs": [],
   "source": [
    "train = pd.read_csv(data_path +'train.csv')"
   ]
  },
  {
   "cell_type": "code",
   "execution_count": null,
   "id": "8e844804-2396-4838-b2b1-a2dca0d3b170",
   "metadata": {},
   "outputs": [],
   "source": [
    "train.head()"
   ]
  },
  {
   "cell_type": "code",
   "execution_count": null,
   "id": "228ccb45-8705-4354-bc76-f3082a77904a",
   "metadata": {},
   "outputs": [],
   "source": [
    "g_true = list(train['g_true'])\n",
    "level = list(train['level'])\n",
    "hand = list(train['hand'])\n",
    "path = list(train['path'])"
   ]
  },
  {
   "cell_type": "code",
   "execution_count": null,
   "id": "f2177837-6cd2-41e5-b726-31342bc07533",
   "metadata": {},
   "outputs": [],
   "source": []
  },
  {
   "cell_type": "code",
   "execution_count": null,
   "id": "6f6788cc-bd22-459b-a22f-370657387100",
   "metadata": {},
   "outputs": [],
   "source": [
    "long = train[train['aspect_ratio']<=0.8]\n",
    "print(len(long))\n",
    "long.head()"
   ]
  },
  {
   "cell_type": "code",
   "execution_count": null,
   "id": "c57bf551-1fea-4f53-8e95-e1922bc67e05",
   "metadata": {},
   "outputs": [],
   "source": [
    "long['level'].value_counts()"
   ]
  },
  {
   "cell_type": "code",
   "execution_count": null,
   "id": "e7f5a788-3383-458e-891d-3fa46b57b5b1",
   "metadata": {},
   "outputs": [],
   "source": [
    "long[long['path'] == 'train_01112.jpg']"
   ]
  },
  {
   "cell_type": "code",
   "execution_count": null,
   "id": "982d0ac9-1c19-4d49-8727-8bac2c1f052c",
   "metadata": {
    "tags": []
   },
   "outputs": [],
   "source": [
    "for path in list(long['path']):\n",
    "#file_path = data_path + 'images/' + long.iloc[num,'path']\n",
    "    print(path)\n",
    "    file_path = data_path + 'images/' + path\n",
    "    a = Image.open(file_path)\n",
    "    a = np.array(a)\n",
    "    plt.imshow(a)\n",
    "    plt.show()"
   ]
  },
  {
   "cell_type": "code",
   "execution_count": null,
   "id": "015a5874-362d-4977-9d0f-44185c874cd5",
   "metadata": {},
   "outputs": [],
   "source": [
    "short = train[train['aspect_ratio']>2]\n",
    "short.head()"
   ]
  },
  {
   "cell_type": "code",
   "execution_count": null,
   "id": "c7dd08eb-031d-4ceb-8f5a-ed1c1d9560db",
   "metadata": {
    "tags": []
   },
   "outputs": [],
   "source": [
    "cnt = 0\n",
    "for path in list(short['path']):\n",
    "    cnt+=1\n",
    "    if cnt ==500:\n",
    "        break\n",
    "#file_path = data_path + 'images/' + long.iloc[num,'path']\n",
    "    print(path)\n",
    "    file_path = data_path + 'images/' + path\n",
    "    a = Image.open(file_path)\n",
    "    a = np.array(a)\n",
    "    plt.imshow(a)\n",
    "    plt.show()"
   ]
  },
  {
   "cell_type": "code",
   "execution_count": null,
   "id": "7e84eab3-929e-4662-856c-7f9f8e4aca7a",
   "metadata": {},
   "outputs": [],
   "source": []
  },
  {
   "cell_type": "code",
   "execution_count": null,
   "id": "a9afbe26-0a72-4353-9521-9d9ac22323bd",
   "metadata": {},
   "outputs": [],
   "source": []
  },
  {
   "cell_type": "code",
   "execution_count": null,
   "id": "2e6faf43-5ba1-4b0e-9525-9a5a27b61159",
   "metadata": {},
   "outputs": [],
   "source": [
    "eme = train[train['aspect_ratio']<1.3]"
   ]
  },
  {
   "cell_type": "code",
   "execution_count": null,
   "id": "eb62fac0-9b2e-4251-bcae-1902e8554a30",
   "metadata": {},
   "outputs": [],
   "source": [
    "eme = eme[eme['aspect_ratio']>0.7]"
   ]
  },
  {
   "cell_type": "code",
   "execution_count": null,
   "id": "94d0de2a-fbfc-4f6c-8e78-d5ba60558b99",
   "metadata": {},
   "outputs": [],
   "source": [
    "len(eme)"
   ]
  },
  {
   "cell_type": "code",
   "execution_count": null,
   "id": "87b1f232-6e93-4034-82ba-71b66764751a",
   "metadata": {
    "tags": []
   },
   "outputs": [],
   "source": [
    "cnt = 0\n",
    "for path in list(eme['path']):\n",
    "    cnt+=1\n",
    "    if cnt ==500:\n",
    "        break\n",
    "#file_path = data_path + 'images/' + long.iloc[num,'path']\n",
    "    print(path)\n",
    "    file_path = data_path + 'images/' + path\n",
    "    a = Image.open(file_path)\n",
    "    a = np.array(a)\n",
    "    plt.imshow(a)\n",
    "    plt.show()"
   ]
  },
  {
   "cell_type": "code",
   "execution_count": null,
   "id": "0425a2e0-7fff-4e67-a434-a69f79a7ba07",
   "metadata": {},
   "outputs": [],
   "source": [
    "#!pip install seaborn"
   ]
  },
  {
   "cell_type": "code",
   "execution_count": null,
   "id": "a06c2a99-933e-47b8-80b4-1d44aebe6708",
   "metadata": {},
   "outputs": [],
   "source": [
    "import seaborn as sns"
   ]
  },
  {
   "cell_type": "code",
   "execution_count": null,
   "id": "d0dc6530-ed03-47b3-8f2a-6855fa61a7f5",
   "metadata": {},
   "outputs": [],
   "source": [
    "sns.distplot(train['aspect_ratio'],hist = False)"
   ]
  },
  {
   "cell_type": "code",
   "execution_count": null,
   "id": "5a86397a-ed7d-4f9d-856c-589fda564042",
   "metadata": {},
   "outputs": [],
   "source": [
    "sns.distplot(eme['aspect_ratio'],hist = False)"
   ]
  },
  {
   "cell_type": "code",
   "execution_count": null,
   "id": "b32549ba-5045-47da-8126-cb66f8ff3b3b",
   "metadata": {},
   "outputs": [],
   "source": [
    "sns.distplot(long['aspect_ratio'],hist = False)"
   ]
  },
  {
   "cell_type": "code",
   "execution_count": null,
   "id": "224ffc4a-be63-49e1-8647-283efe6f1678",
   "metadata": {},
   "outputs": [],
   "source": [
    "sns.distplot(train[train['aspect_ratio']<1.3]['aspect_ratio'],hist = False)"
   ]
  },
  {
   "cell_type": "code",
   "execution_count": null,
   "id": "c4ba1d9b-c915-4749-93a3-33f68c603ea4",
   "metadata": {
    "tags": []
   },
   "outputs": [],
   "source": [
    "!nvidia-smi"
   ]
  },
  {
   "cell_type": "code",
   "execution_count": null,
   "id": "d1916e0d-0786-4789-b2bf-69f16c00054f",
   "metadata": {},
   "outputs": [],
   "source": []
  }
 ],
 "metadata": {
  "kernelspec": {
   "display_name": "Python 3",
   "language": "python",
   "name": "python3"
  },
  "language_info": {
   "codemirror_mode": {
    "name": "ipython",
    "version": 3
   },
   "file_extension": ".py",
   "mimetype": "text/x-python",
   "name": "python",
   "nbconvert_exporter": "python",
   "pygments_lexer": "ipython3",
   "version": "3.7.7"
  }
 },
 "nbformat": 4,
 "nbformat_minor": 5
}
