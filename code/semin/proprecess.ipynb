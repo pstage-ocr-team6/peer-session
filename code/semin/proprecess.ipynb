{
 "cells": [
  {
   "cell_type": "code",
   "execution_count": null,
   "id": "85cdde4f-27d3-4757-b650-4784daad3bb5",
   "metadata": {},
   "outputs": [],
   "source": [
    "!pip install pandas"
   ]
  },
  {
   "cell_type": "code",
   "execution_count": null,
   "id": "1d56f52b-5496-468c-ba91-a5f7e8ee8836",
   "metadata": {},
   "outputs": [],
   "source": [
    "import pandas as pd\n",
    "from PIL import Image, ImageOps\n",
    "import numpy as np"
   ]
  },
  {
   "cell_type": "code",
   "execution_count": null,
   "id": "bf1d7e1d-6ba5-4b80-9f7e-1f4650e0822c",
   "metadata": {},
   "outputs": [],
   "source": [
    "data_path = '/opt/ml/input/data/train_dataset/'\n",
    "train_gt = pd.read_csv(data_path + 'gt.txt',sep='.jpg\\t',header=None)\n",
    "train_gt[0] = train_gt[0].map(lambda x: x+'.jpg')\n",
    "train_level = pd.read_csv(data_path + 'level.txt',sep = \"\\t\",header=None)\n",
    "train_source = pd.read_csv(data_path + 'source.txt',sep = \"\\t\",header=None)"
   ]
  },
  {
   "cell_type": "code",
   "execution_count": null,
   "id": "01e07773-f355-43df-bd4e-a67aa045aa32",
   "metadata": {},
   "outputs": [],
   "source": [
    "train = train_gt.merge(train_level,left_on = 0,right_on = 0)\n",
    "train = train.merge(train_source,left_on = 0,right_on = 0)\n",
    "train.columns = ['path','g_true','level','hand']"
   ]
  },
  {
   "cell_type": "code",
   "execution_count": null,
   "id": "b3b29c43-557d-4729-b2e0-bfaaf9a06e30",
   "metadata": {},
   "outputs": [],
   "source": [
    "train['width'] = train['path'].map(lambda x: Image.open(data_path+'images/'+x).size[0])\n",
    "train['height'] = train['path'].map(lambda x: Image.open(data_path+'images/'+x).size[1])\n",
    "train['aspect_ratio'] = round(train['width']/train['height'],2)"
   ]
  },
  {
   "cell_type": "code",
   "execution_count": null,
   "id": "ef544345-7d30-4b35-adf3-52514895ccd2",
   "metadata": {},
   "outputs": [],
   "source": [
    "train.to_csv(data_path + 'train.csv',index = False)"
   ]
  },
  {
   "cell_type": "code",
   "execution_count": null,
   "id": "8cd9d49b-3e4b-46ab-ade8-97e7001ab75e",
   "metadata": {},
   "outputs": [],
   "source": [
    "train = pd.read_csv(data_path +'train.csv')"
   ]
  },
  {
   "cell_type": "code",
   "execution_count": null,
   "id": "767194bd-7a82-4ec3-a235-9e969175cffd",
   "metadata": {},
   "outputs": [],
   "source": [
    "train"
   ]
  },
  {
   "cell_type": "code",
   "execution_count": null,
   "id": "bc6d9777-f088-45bd-91a2-8aea89803abc",
   "metadata": {},
   "outputs": [],
   "source": []
  }
 ],
 "metadata": {
  "kernelspec": {
   "display_name": "Python 3",
   "language": "python",
   "name": "python3"
  },
  "language_info": {
   "codemirror_mode": {
    "name": "ipython",
    "version": 3
   },
   "file_extension": ".py",
   "mimetype": "text/x-python",
   "name": "python",
   "nbconvert_exporter": "python",
   "pygments_lexer": "ipython3",
   "version": "3.7.7"
  }
 },
 "nbformat": 4,
 "nbformat_minor": 5
}
