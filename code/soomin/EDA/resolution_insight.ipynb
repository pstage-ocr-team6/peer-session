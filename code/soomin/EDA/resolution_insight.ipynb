{
 "cells": [
  {
   "cell_type": "markdown",
   "id": "dad3874c-ec6c-4466-abbe-08f45a153d32",
   "metadata": {},
   "source": [
    "## Library"
   ]
  },
  {
   "cell_type": "code",
   "execution_count": 1,
   "id": "75b55cb0-0ffc-482d-adff-30002f485487",
   "metadata": {},
   "outputs": [],
   "source": [
    "%matplotlib inline\n",
    "import glob\n",
    "import json\n",
    "import matplotlib.pyplot as plt\n",
    "import matplotlib.image as mpimg\n",
    "import pandas as pd\n",
    "import seaborn as sns\n",
    "from PIL import Image\n",
    "from IPython.display import display\n",
    "import cv2\n",
    "\n",
    "# 셀에서 값을 연속적으로 모두 출력\n",
    "from IPython.core.interactiveshell import InteractiveShell\n",
    "InteractiveShell.ast_node_interactivity = \"all\"\n",
    "\n",
    "import warnings\n",
    "warnings.filterwarnings(action='ignore')"
   ]
  },
  {
   "cell_type": "markdown",
   "id": "e45c19c8-ea33-440d-bcec-d2f7ef005931",
   "metadata": {},
   "source": [
    "## Create Dataframe"
   ]
  },
  {
   "cell_type": "code",
   "execution_count": 2,
   "id": "d18da77d-60b8-4b43-9e72-9165decd7339",
   "metadata": {},
   "outputs": [],
   "source": [
    "def create_data_frame(default_image_path:str,data_path:str,level_path:str,source_path:str):\n",
    "    data = {}\n",
    "    data['latex'] = []\n",
    "    data['latex_str']=[]\n",
    "    data['seq_len'] = []\n",
    "    data['aspect_ratio'] = []\n",
    "    data['image_width'] = []\n",
    "    data['image_height'] = []\n",
    "    data['level']=[]\n",
    "    data['source']=[]\n",
    "    data['img_name']=[]\n",
    "    \n",
    "    all_latex_list = []\n",
    "    lv1_latex_list=[]\n",
    "    lv2_latex_list=[]\n",
    "    lv3_latex_list=[]\n",
    "    lv4_latex_list=[]\n",
    "    lv5_latex_list=[]\n",
    "    \n",
    "    with open(level_path) as f:\n",
    "        level_info={}\n",
    "        for line in f:\n",
    "            path,level=line.replace(\"\\n\",\"\").split(\"\\t\")\n",
    "            level_info[path]=int(level)\n",
    "            data['img_name'].append(path)\n",
    "            \n",
    "            \n",
    "    with open(source_path) as f:\n",
    "        source_info={}\n",
    "        for line in f:\n",
    "            path,source=line.replace(\"\\n\",\"\").split(\"\\t\")\n",
    "            source_info[path]=str(source)\n",
    "            \n",
    "    with open(data_path) as f:\n",
    "        for idx,line in enumerate(f):\n",
    "            image_path,latex=line.replace(\"\\n\",\"\").split(\"\\t\")\n",
    "            image = Image.open(default_image_path+image_path)\n",
    "            width, height = image.size\n",
    "            data['aspect_ratio'].append(round(width / height,1))\n",
    "            data['image_width'].append(int(width))\n",
    "            data['image_height'].append(int(height))\n",
    "            data['latex_str'].append(latex)\n",
    "            latex=latex.split(\" \")\n",
    "            data['latex'].append(latex)\n",
    "            data['seq_len'].append(len(latex))\n",
    "            level=level_info[image_path]\n",
    "            data['level'].append(level)\n",
    "            source=source_info[image_path]\n",
    "            data['source'].append(source)\n",
    "            all_latex_list += latex\n",
    "            if level==1:\n",
    "                lv1_latex_list += latex\n",
    "            elif level==2:\n",
    "                lv2_latex_list += latex\n",
    "            elif level==3:\n",
    "                lv3_latex_list += latex\n",
    "            elif level==4:\n",
    "                lv4_latex_list += latex\n",
    "            else:\n",
    "                lv5_latex_list += latex\n",
    "\n",
    "    df = pd.DataFrame.from_dict(data)\n",
    "    lv_latex_list=[lv1_latex_list,lv2_latex_list,lv3_latex_list,lv4_latex_list,lv5_latex_list]\n",
    "    \n",
    "    return df, all_latex_list, lv_latex_list"
   ]
  },
  {
   "cell_type": "code",
   "execution_count": 3,
   "id": "9d0cde93-ef8a-4395-802a-31d3c961aebd",
   "metadata": {},
   "outputs": [],
   "source": [
    "default_image_path=\"/opt/ml/input/data/images/\"\n",
    "data_path=\"/opt/ml/input/data/gt.txt\"\n",
    "level_path=\"/opt/ml/input/data/level.txt\"\n",
    "source_path=\"/opt/ml/input/data/source.txt\"\n",
    "\n",
    "df, all_latex_list, lv_latex_list = create_data_frame(default_image_path, data_path, level_path, source_path)"
   ]
  },
  {
   "cell_type": "code",
   "execution_count": 4,
   "id": "898241c1-b42e-4036-acb9-82f975f01c75",
   "metadata": {},
   "outputs": [
    {
     "data": {
      "text/plain": [
       "['latex',\n",
       " 'latex_str',\n",
       " 'seq_len',\n",
       " 'aspect_ratio',\n",
       " 'image_width',\n",
       " 'image_height',\n",
       " 'level',\n",
       " 'source',\n",
       " 'img_name']"
      ]
     },
     "execution_count": 4,
     "metadata": {},
     "output_type": "execute_result"
    },
    {
     "data": {
      "text/html": [
       "<div>\n",
       "<style scoped>\n",
       "    .dataframe tbody tr th:only-of-type {\n",
       "        vertical-align: middle;\n",
       "    }\n",
       "\n",
       "    .dataframe tbody tr th {\n",
       "        vertical-align: top;\n",
       "    }\n",
       "\n",
       "    .dataframe thead th {\n",
       "        text-align: right;\n",
       "    }\n",
       "</style>\n",
       "<table border=\"1\" class=\"dataframe\">\n",
       "  <thead>\n",
       "    <tr style=\"text-align: right;\">\n",
       "      <th></th>\n",
       "      <th>latex</th>\n",
       "      <th>latex_str</th>\n",
       "      <th>seq_len</th>\n",
       "      <th>aspect_ratio</th>\n",
       "      <th>image_width</th>\n",
       "      <th>image_height</th>\n",
       "      <th>level</th>\n",
       "      <th>source</th>\n",
       "      <th>img_name</th>\n",
       "    </tr>\n",
       "  </thead>\n",
       "  <tbody>\n",
       "    <tr>\n",
       "      <th>0</th>\n",
       "      <td>[4, \\times, 7, =, 2, 8]</td>\n",
       "      <td>4 \\times 7 = 2 8</td>\n",
       "      <td>6</td>\n",
       "      <td>4.2</td>\n",
       "      <td>903</td>\n",
       "      <td>213</td>\n",
       "      <td>1</td>\n",
       "      <td>1</td>\n",
       "      <td>train_00000.jpg</td>\n",
       "    </tr>\n",
       "    <tr>\n",
       "      <th>1</th>\n",
       "      <td>[a, ^, {, x, }, &gt;, q]</td>\n",
       "      <td>a ^ { x } &gt; q</td>\n",
       "      <td>7</td>\n",
       "      <td>3.7</td>\n",
       "      <td>435</td>\n",
       "      <td>118</td>\n",
       "      <td>2</td>\n",
       "      <td>0</td>\n",
       "      <td>train_00001.jpg</td>\n",
       "    </tr>\n",
       "    <tr>\n",
       "      <th>2</th>\n",
       "      <td>[8, \\times, 9]</td>\n",
       "      <td>8 \\times 9</td>\n",
       "      <td>3</td>\n",
       "      <td>2.0</td>\n",
       "      <td>348</td>\n",
       "      <td>172</td>\n",
       "      <td>2</td>\n",
       "      <td>0</td>\n",
       "      <td>train_00002.jpg</td>\n",
       "    </tr>\n",
       "    <tr>\n",
       "      <th>3</th>\n",
       "      <td>[\\sum, _, {, k, =, 1, }, ^, {, n, -, 1, }, b, ...</td>\n",
       "      <td>\\sum _ { k = 1 } ^ { n - 1 } b _ { k } = a _ {...</td>\n",
       "      <td>30</td>\n",
       "      <td>3.2</td>\n",
       "      <td>964</td>\n",
       "      <td>299</td>\n",
       "      <td>3</td>\n",
       "      <td>1</td>\n",
       "      <td>train_00003.jpg</td>\n",
       "    </tr>\n",
       "    <tr>\n",
       "      <th>4</th>\n",
       "      <td>[I, =, d, q, /, d, t]</td>\n",
       "      <td>I = d q / d t</td>\n",
       "      <td>7</td>\n",
       "      <td>3.4</td>\n",
       "      <td>700</td>\n",
       "      <td>208</td>\n",
       "      <td>4</td>\n",
       "      <td>0</td>\n",
       "      <td>train_00004.jpg</td>\n",
       "    </tr>\n",
       "  </tbody>\n",
       "</table>\n",
       "</div>"
      ],
      "text/plain": [
       "                                               latex  \\\n",
       "0                            [4, \\times, 7, =, 2, 8]   \n",
       "1                              [a, ^, {, x, }, >, q]   \n",
       "2                                     [8, \\times, 9]   \n",
       "3  [\\sum, _, {, k, =, 1, }, ^, {, n, -, 1, }, b, ...   \n",
       "4                              [I, =, d, q, /, d, t]   \n",
       "\n",
       "                                           latex_str  seq_len  aspect_ratio  \\\n",
       "0                                   4 \\times 7 = 2 8        6           4.2   \n",
       "1                                      a ^ { x } > q        7           3.7   \n",
       "2                                         8 \\times 9        3           2.0   \n",
       "3  \\sum _ { k = 1 } ^ { n - 1 } b _ { k } = a _ {...       30           3.2   \n",
       "4                                      I = d q / d t        7           3.4   \n",
       "\n",
       "   image_width  image_height  level source         img_name  \n",
       "0          903           213      1      1  train_00000.jpg  \n",
       "1          435           118      2      0  train_00001.jpg  \n",
       "2          348           172      2      0  train_00002.jpg  \n",
       "3          964           299      3      1  train_00003.jpg  \n",
       "4          700           208      4      0  train_00004.jpg  "
      ]
     },
     "execution_count": 4,
     "metadata": {},
     "output_type": "execute_result"
    },
    {
     "data": {
      "text/html": [
       "<div>\n",
       "<style scoped>\n",
       "    .dataframe tbody tr th:only-of-type {\n",
       "        vertical-align: middle;\n",
       "    }\n",
       "\n",
       "    .dataframe tbody tr th {\n",
       "        vertical-align: top;\n",
       "    }\n",
       "\n",
       "    .dataframe thead th {\n",
       "        text-align: right;\n",
       "    }\n",
       "</style>\n",
       "<table border=\"1\" class=\"dataframe\">\n",
       "  <thead>\n",
       "    <tr style=\"text-align: right;\">\n",
       "      <th></th>\n",
       "      <th>seq_len</th>\n",
       "      <th>aspect_ratio</th>\n",
       "      <th>image_width</th>\n",
       "      <th>image_height</th>\n",
       "      <th>level</th>\n",
       "    </tr>\n",
       "  </thead>\n",
       "  <tbody>\n",
       "    <tr>\n",
       "      <th>count</th>\n",
       "      <td>100000.000000</td>\n",
       "      <td>100000.000000</td>\n",
       "      <td>100000.000000</td>\n",
       "      <td>100000.000000</td>\n",
       "      <td>100000.000000</td>\n",
       "    </tr>\n",
       "    <tr>\n",
       "      <th>mean</th>\n",
       "      <td>17.536930</td>\n",
       "      <td>4.344388</td>\n",
       "      <td>1309.317910</td>\n",
       "      <td>333.098100</td>\n",
       "      <td>2.392250</td>\n",
       "    </tr>\n",
       "    <tr>\n",
       "      <th>std</th>\n",
       "      <td>14.952702</td>\n",
       "      <td>2.484526</td>\n",
       "      <td>1120.911322</td>\n",
       "      <td>312.306097</td>\n",
       "      <td>0.845575</td>\n",
       "    </tr>\n",
       "    <tr>\n",
       "      <th>min</th>\n",
       "      <td>1.000000</td>\n",
       "      <td>0.100000</td>\n",
       "      <td>35.000000</td>\n",
       "      <td>20.000000</td>\n",
       "      <td>1.000000</td>\n",
       "    </tr>\n",
       "    <tr>\n",
       "      <th>25%</th>\n",
       "      <td>7.000000</td>\n",
       "      <td>2.600000</td>\n",
       "      <td>563.000000</td>\n",
       "      <td>173.000000</td>\n",
       "      <td>2.000000</td>\n",
       "    </tr>\n",
       "    <tr>\n",
       "      <th>50%</th>\n",
       "      <td>13.000000</td>\n",
       "      <td>3.800000</td>\n",
       "      <td>1012.000000</td>\n",
       "      <td>255.000000</td>\n",
       "      <td>2.000000</td>\n",
       "    </tr>\n",
       "    <tr>\n",
       "      <th>75%</th>\n",
       "      <td>23.000000</td>\n",
       "      <td>5.500000</td>\n",
       "      <td>1732.000000</td>\n",
       "      <td>393.000000</td>\n",
       "      <td>3.000000</td>\n",
       "    </tr>\n",
       "    <tr>\n",
       "      <th>max</th>\n",
       "      <td>252.000000</td>\n",
       "      <td>33.900000</td>\n",
       "      <td>11810.000000</td>\n",
       "      <td>10020.000000</td>\n",
       "      <td>5.000000</td>\n",
       "    </tr>\n",
       "  </tbody>\n",
       "</table>\n",
       "</div>"
      ],
      "text/plain": [
       "             seq_len   aspect_ratio    image_width   image_height  \\\n",
       "count  100000.000000  100000.000000  100000.000000  100000.000000   \n",
       "mean       17.536930       4.344388    1309.317910     333.098100   \n",
       "std        14.952702       2.484526    1120.911322     312.306097   \n",
       "min         1.000000       0.100000      35.000000      20.000000   \n",
       "25%         7.000000       2.600000     563.000000     173.000000   \n",
       "50%        13.000000       3.800000    1012.000000     255.000000   \n",
       "75%        23.000000       5.500000    1732.000000     393.000000   \n",
       "max       252.000000      33.900000   11810.000000   10020.000000   \n",
       "\n",
       "               level  \n",
       "count  100000.000000  \n",
       "mean        2.392250  \n",
       "std         0.845575  \n",
       "min         1.000000  \n",
       "25%         2.000000  \n",
       "50%         2.000000  \n",
       "75%         3.000000  \n",
       "max         5.000000  "
      ]
     },
     "execution_count": 4,
     "metadata": {},
     "output_type": "execute_result"
    }
   ],
   "source": [
    "df.columns.to_list()\n",
    "df.head()\n",
    "df.describe()"
   ]
  },
  {
   "cell_type": "code",
   "execution_count": 5,
   "id": "eddf926c-68df-471b-b3a5-7561d94c8964",
   "metadata": {},
   "outputs": [
    {
     "data": {
      "text/plain": [
       "'train_00000.jpg'"
      ]
     },
     "execution_count": 5,
     "metadata": {},
     "output_type": "execute_result"
    },
    {
     "data": {
      "text/plain": [
       "'train_00001.jpg'"
      ]
     },
     "execution_count": 5,
     "metadata": {},
     "output_type": "execute_result"
    },
    {
     "data": {
      "text/plain": [
       "'train_00003.jpg'"
      ]
     },
     "execution_count": 5,
     "metadata": {},
     "output_type": "execute_result"
    },
    {
     "data": {
      "text/plain": [
       "'train_00004.jpg'"
      ]
     },
     "execution_count": 5,
     "metadata": {},
     "output_type": "execute_result"
    },
    {
     "data": {
      "text/plain": [
       "'train_00340.jpg'"
      ]
     },
     "execution_count": 5,
     "metadata": {},
     "output_type": "execute_result"
    }
   ],
   "source": [
    "df[df['level']==1].iloc[0]['img_name']\n",
    "df[df['level']==2].iloc[0]['img_name']\n",
    "df[df['level']==3].iloc[0]['img_name']\n",
    "df[df['level']==4].iloc[0]['img_name']\n",
    "df[df['level']==5].iloc[0]['img_name']"
   ]
  },
  {
   "cell_type": "markdown",
   "id": "d7e9a1f2-12e9-42f2-aadf-722e30d27347",
   "metadata": {},
   "source": [
    "## Print latex_to_img & origin_img"
   ]
  },
  {
   "cell_type": "code",
   "execution_count": 6,
   "id": "6b403633-2897-43bf-aed8-5006b6c70ac1",
   "metadata": {},
   "outputs": [],
   "source": [
    "def latex_to_img(img_num:int):\n",
    "    level_color=[\n",
    "        'turquoise',\n",
    "        'lightgreen',\n",
    "        'gold',\n",
    "        'sandybrown',\n",
    "        'salmon'\n",
    "    ]\n",
    "    \n",
    "    box1 = {'boxstyle': 'round',\n",
    "        'ec': (0.1, 0.1, 0.1), # edgecolor\n",
    "        'fc': level_color[int(df.iloc[img_num]['level'])-1]} # (0.5, 0.8, 0.8)} # facecolor\n",
    "    \n",
    "    a = df.iloc[img_num]['latex_str']\n",
    "    ax = plt.axes([0,0,0.2,0.2]) #left,bottom,width,height\n",
    "    ax.set_xticks([])\n",
    "    ax.set_yticks([])\n",
    "    ax.axis('off')\n",
    "    plt.text(0.3,0.5,'$%s$' %a, size=30, bbox=box1)\n",
    "    plt.show()"
   ]
  },
  {
   "cell_type": "code",
   "execution_count": 7,
   "id": "cd102130-297b-4d58-9bd2-b10af9b9a5a3",
   "metadata": {},
   "outputs": [],
   "source": [
    "def origin_img(img_num:int):\n",
    "    img_name = df.iloc[img_num]['img_name']\n",
    "    img = mpimg.imread(default_image_path+img_name)\n",
    "    plt.grid(True, color='w')\n",
    "    plt.imshow(img)\n",
    "    plt.show()"
   ]
  },
  {
   "cell_type": "code",
   "execution_count": 8,
   "id": "e7c2fb38-ece2-4152-80f0-b476e4654649",
   "metadata": {},
   "outputs": [],
   "source": [
    "def compare_img_gt(img_num:int, visible_infos=False):\n",
    "    img_name = df.iloc[img_num]['img_name']\n",
    "    img = mpimg.imread(default_image_path+img_name)\n",
    "    plt.grid(True, color='w')\n",
    "    plt.imshow(img)\n",
    "    plt.show()\n",
    "    \n",
    "    level_color=[\n",
    "        'turquoise',\n",
    "        'lightgreen',\n",
    "        'gold',\n",
    "        'sandybrown',\n",
    "        'salmon'\n",
    "    ]\n",
    "    \n",
    "    box1 = {'boxstyle': 'round',\n",
    "        'ec': (0.1, 0.1, 0.1), # edgecolor\n",
    "        'fc': level_color[int(df.iloc[img_num]['level'])-1]} # (0.5, 0.8, 0.8)} # facecolor\n",
    "    \n",
    "    # ground truth latex to img\n",
    "    a = df.iloc[img_num]['latex_str']\n",
    "    ax = plt.axes([0,0,0.2,0.2]) #left,bottom,width,height\n",
    "    ax.set_xticks([])\n",
    "    ax.set_yticks([])\n",
    "    ax.axis('off')\n",
    "    plt.text(0.3,0.5,'$%s$' %a,size=20, bbox=box1)\n",
    "    plt.show()\n",
    "    \n",
    "    if visible_infos:\n",
    "        display(df.iloc[img_num][1:])"
   ]
  },
  {
   "cell_type": "code",
   "execution_count": 9,
   "id": "b1d817a7-a592-4664-a3aa-1ed351b6819e",
   "metadata": {},
   "outputs": [
    {
     "name": "stdout",
     "output_type": "stream",
     "text": [
      "====================== print all ========================== \n"
     ]
    },
    {
     "data": {
      "image/png": "[encoded data removed]",
      "text/plain": [
       "<Figure size 432x288 with 1 Axes>"
      ]
     },
     "metadata": {
      "needs_background": "light"
     },
     "output_type": "display_data"
    },
    {
     "data": {
      "image/png": "[encoded data removed]",
      "text/plain": [
       "<Figure size 432x288 with 1 Axes>"
      ]
     },
     "metadata": {},
     "output_type": "display_data"
    },
    {
     "data": {
      "text/plain": [
       "latex_str       4 \\times 7 = 2 8\n",
       "seq_len                        6\n",
       "aspect_ratio                 4.2\n",
       "image_width                  903\n",
       "image_height                 213\n",
       "level                          1\n",
       "source                         1\n",
       "img_name         train_00000.jpg\n",
       "Name: 0, dtype: object"
      ]
     },
     "metadata": {},
     "output_type": "display_data"
    }
   ],
   "source": [
    "# print(\"==================== print latex to img ==================== \")\n",
    "# latex_to_img(img_num=0)\n",
    "\n",
    "# print(\"===================== print origin img ==================== \")\n",
    "# origin_img(img_num=0)\n",
    "\n",
    "print(\"====================== print all ========================== \")\n",
    "compare_img_gt(img_num=0, visible_infos=True)"
   ]
  },
  {
   "cell_type": "markdown",
   "id": "062520ca-6e64-48b1-9af6-6ff191c8b287",
   "metadata": {},
   "source": [
    "## Level에 따른 LaTeX background 색 변경"
   ]
  },
  {
   "cell_type": "code",
   "execution_count": 10,
   "id": "02edb27e-e58b-46eb-bbaa-34e1e57d5b88",
   "metadata": {},
   "outputs": [],
   "source": [
    "# level_testset = []\n",
    "# level_testset.append(df[df['level']==1].iloc[0]['img_name'])\n",
    "# level_testset.append(df[df['level']==2].iloc[0]['img_name'])\n",
    "# level_testset.append(df[df['level']==3].iloc[0]['img_name'])\n",
    "# level_testset.append(df[df['level']==4].iloc[0]['img_name'])\n",
    "# level_testset.append(df[df['level']==5].iloc[0]['img_name'])\n",
    "\n",
    "# level_testset\n",
    "\n",
    "# for name in level_testset:\n",
    "#     ind = int(name.split('_')[1].split('.')[0])\n",
    "#     compare_img_gt(img_num=ind, visible_infos=True)"
   ]
  },
  {
   "cell_type": "markdown",
   "id": "64e31aaf-599f-4ad0-952d-6f5f70a5babc",
   "metadata": {},
   "source": [
    "## Resolution correlation"
   ]
  },
  {
   "cell_type": "code",
   "execution_count": null,
   "id": "5c4a4dbe-fe11-4bc4-9443-7a5859c5cf31",
   "metadata": {},
   "outputs": [],
   "source": []
  },
  {
   "cell_type": "markdown",
   "id": "06cd09da-ba20-418b-a9a1-60fb68ed4f28",
   "metadata": {},
   "source": [
    "## Plot display"
   ]
  },
  {
   "cell_type": "code",
   "execution_count": 33,
   "id": "3099d4c0-8a75-4a29-ba39-e727fea891eb",
   "metadata": {},
   "outputs": [],
   "source": [
    "def plot_dist(df, field, bins, color, xlabel, ylabel, title):\n",
    "    sns.set(color_codes=True)\n",
    "    fig, ax = plt.subplots(figsize=(8,4))\n",
    "    sns.distplot(df[field], bins=bins, color=color, ax=ax)\n",
    "    ax.set_xlabel(xlabel, fontsize=13)\n",
    "    ax.set_ylabel(ylabel, fontsize=13)\n",
    "    ax.set_title(title, fontsize=16)\n",
    "    plt.show()"
   ]
  },
  {
   "cell_type": "code",
   "execution_count": 35,
   "id": "6768c4d5-5857-4796-8743-78aed13facb6",
   "metadata": {},
   "outputs": [
    {
     "data": {
      "image/png": "[encoded data removed]",
      "text/plain": [
       "<Figure size 576x288 with 1 Axes>"
      ]
     },
     "metadata": {},
     "output_type": "display_data"
    },
    {
     "data": {
      "image/png": "[encoded data removed]",
      "text/plain": [
       "<Figure size 576x288 with 1 Axes>"
      ]
     },
     "metadata": {},
     "output_type": "display_data"
    }
   ],
   "source": [
    "plot_dist(df=df, field='seq_len', bins=50, color='b', xlabel='Sequence Length', \\\n",
    "          ylabel='Frequency', title='Sequence Length Distribution (Train 100k Images)')\n",
    "\n",
    "plot_dist(df=df, field='aspect_ratio', bins=50, color='r', xlabel='Aspect Ratio (Image Width / Image Height)', \\\n",
    "          ylabel='Frequency', title='Aspect Ratio Distribution (Train 100k Images)')"
   ]
  },
  {
   "cell_type": "code",
   "execution_count": 37,
   "id": "7567ce3b-5d16-492d-9566-e7db5374753d",
   "metadata": {},
   "outputs": [
    {
     "data": {
      "text/plain": [
       "<seaborn.axisgrid.JointGrid at 0x7f45b08b95d0>"
      ]
     },
     "execution_count": 37,
     "metadata": {},
     "output_type": "execute_result"
    },
    {
     "data": {
      "image/png": "[encoded data removed]",
      "text/plain": [
       "<Figure size 432x432 with 3 Axes>"
      ]
     },
     "metadata": {},
     "output_type": "display_data"
    }
   ],
   "source": [
    "g = sns.jointplot(\"image_width\", \"image_height\", data=df, color=\"r\")\n",
    "g.set_axis_labels(\"Image Width\", \"Image Height\")"
   ]
  },
  {
   "cell_type": "code",
   "execution_count": null,
   "id": "ebba5ec9-ef2d-4216-b517-9f8a9c48da04",
   "metadata": {},
   "outputs": [],
   "source": [
    "# def create_count_df(df, field, index,top_token):\n",
    "#     count=df.groupby(field)[index].count().sort_values(ascending=False)\n",
    "#     count_df = count.to_frame().reset_index()\n",
    "#     count_df.columns = [field, field + '_count']\n",
    "#     return count_df[:top_token]\n",
    "\n",
    "# def plot_count_df(df, field, random_sample, color, rotation, xlabel, ylabel, title):\n",
    "#     fig, ax = plt.subplots(figsize=(10,4))\n",
    "#     if random_sample:\n",
    "#         df = df.sample(n=50, random_state=1)\n",
    "#     ax.bar(df[field], df[field + '_count'], color=color, align='center',alpha=0.5)\n",
    "#     ax.set_xticklabels(df[field],rotation=rotation, fontsize=13)\n",
    "#     ax.set_xlabel(xlabel, fontsize=13)\n",
    "#     ax.set_ylabel(ylabel, fontsize=13)\n",
    "#     ax.set_title(title, fontsize=16)\n",
    "#     plt.show()"
   ]
  },
  {
   "cell_type": "code",
   "execution_count": null,
   "id": "3cd29cd7-2b56-46aa-8c4c-f4b5d8d1eba7",
   "metadata": {},
   "outputs": [],
   "source": [
    "# token_df = pd.DataFrame(all_latex_list, columns =['token'])\n",
    "# token_df['index']=token_df.index"
   ]
  },
  {
   "cell_type": "code",
   "execution_count": null,
   "id": "0dbf4088-152c-4072-b3fa-5153870bbce2",
   "metadata": {},
   "outputs": [],
   "source": [
    "# token_count_df = create_count_df(df=token_df, field='token', index='index',top_token=20)\n",
    "# plot_count_df(df=token_count_df, field='token', random_sample=False, color='g', rotation=90, xlabel='Token', \\\n",
    "#               ylabel='Number of Tokens', title='Token Distribution (10k Images)')"
   ]
  },
  {
   "cell_type": "code",
   "execution_count": null,
   "id": "0f1b6b94-21d6-4c69-b8fa-c99310393309",
   "metadata": {},
   "outputs": [],
   "source": [
    "# level_1 = df[df['level'] == 1]\n",
    "# level_2 = df[df['level'] == 2]\n",
    "# level_3 = df[df['level'] == 3]\n",
    "# level_4 = df[df['level'] == 4]\n",
    "# level_5 = df[df['level'] == 5]\n",
    "# level_dfs=[level_1,level_2,level_3,level_4,level_5]"
   ]
  },
  {
   "cell_type": "code",
   "execution_count": null,
   "id": "cb5a4b20-db1a-4e7c-abb1-7e8d6e0b311f",
   "metadata": {},
   "outputs": [],
   "source": [
    "# for level,df in enumerate(level_dfs):\n",
    "#     plot_dist(df=df, field='seq_len', bins=50, color='b', xlabel='Sequence Length', \\\n",
    "#           ylabel='Frequency', title='Sequence Length Distribution (level {})'.format(level+1))\n",
    "#     plot_dist(df=df, field='aspect_ratio', bins=10, color='r', xlabel='Aspect Ratio (Image Width / Image Height)', \\\n",
    "#           ylabel='Frequency', title='Aspect Ratio Distribution (level {})'.format(level+1))\n",
    "    \n",
    "#     g = sns.jointplot(\"image_width\", \"image_height\", data=df, kind=\"kde\", space=0, color=\"r\")\n",
    "#     g.set_axis_labels(\"Image Width\", \"Image Height\")\n",
    "#     token_df = pd.DataFrame(lv_latex_list[level], columns =['token'])\n",
    "#     token_df['index']=token_df.index\n",
    "#     token_count_df = create_count_df(df=token_df, field='token', index='index',top_token=20)\n",
    "#     plot_count_df(df=token_count_df, field='token', random_sample=False, color='g', rotation=90, xlabel='Token', \\\n",
    "#               ylabel='Number of Tokens', title='Token Distribution (level {})'.format(level+1))\n",
    "    "
   ]
  },
  {
   "cell_type": "code",
   "execution_count": null,
   "id": "d6e8262a-b19d-4775-8885-009426efe56d",
   "metadata": {},
   "outputs": [],
   "source": [
    "# level=0\n",
    "# level_dfs[level].describe()"
   ]
  },
  {
   "cell_type": "code",
   "execution_count": null,
   "id": "fe81d122-83e9-4337-a212-4c493ff5ce26",
   "metadata": {},
   "outputs": [],
   "source": [
    "# plot_dist(df=level_dfs[level], field='seq_len', bins=50, color='b', xlabel='Sequence Length', \\\n",
    "#       ylabel='Frequency', title='Sequence Length Distribution (level {})'.format(level+1))\n",
    "# plot_dist(df=level_dfs[level], field='aspect_ratio', bins=10, color='r', xlabel='Aspect Ratio (Image Width / Image Height)', \\\n",
    "#       ylabel='Frequency', title='Aspect Ratio Distribution (level {})'.format(level+1))\n",
    "# g = sns.jointplot(\"image_width\", \"image_height\", data=level_dfs[level], kind=\"kde\", space=0, color=\"r\")\n",
    "# g.set_axis_labels(\"Image Width\", \"Image Height\")\n",
    "# token_df = pd.DataFrame(lv_latex_list[level], columns =['token'])\n",
    "# token_df['index']=token_df.index\n",
    "# token_count_df = create_count_df(df=token_df, field='token', index='index',top_token=20)\n",
    "# plot_count_df(df=token_count_df, field='token', random_sample=False, color='g', rotation=90, xlabel='Token', \\\n",
    "#           ylabel='Number of Tokens', title='Token Distribution (level {})'.format(level+1))"
   ]
  },
  {
   "cell_type": "code",
   "execution_count": null,
   "id": "07a1c468-9cac-4b72-a18f-a9099563f71b",
   "metadata": {},
   "outputs": [],
   "source": [
    "# level=1\n",
    "# level_dfs[level].describe()"
   ]
  },
  {
   "cell_type": "code",
   "execution_count": null,
   "id": "e160569b-4dc5-4465-8647-6abc5be87133",
   "metadata": {},
   "outputs": [],
   "source": [
    "# plot_dist(df=level_dfs[level], field='seq_len', bins=50, color='b', xlabel='Sequence Length', \\\n",
    "#       ylabel='Frequency', title='Sequence Length Distribution (level {})'.format(level+1))\n",
    "# plot_dist(df=level_dfs[level], field='aspect_ratio', bins=10, color='r', xlabel='Aspect Ratio (Image Width / Image Height)', \\\n",
    "#       ylabel='Frequency', title='Aspect Ratio Distribution (level {})'.format(level+1))\n",
    "# g = sns.jointplot(\"image_width\", \"image_height\", data=level_dfs[level], kind=\"kde\", space=0, color=\"r\")\n",
    "# g.set_axis_labels(\"Image Width\", \"Image Height\")\n",
    "# token_df = pd.DataFrame(lv_latex_list[level], columns =['token'])\n",
    "# token_df['index']=token_df.index\n",
    "# token_count_df = create_count_df(df=token_df, field='token', index='index',top_token=20)\n",
    "# plot_count_df(df=token_count_df, field='token', random_sample=False, color='g', rotation=90, xlabel='Token', \\\n",
    "#           ylabel='Number of Tokens', title='Token Distribution (level {})'.format(level+1))"
   ]
  },
  {
   "cell_type": "code",
   "execution_count": null,
   "id": "0abf377b-49fa-4174-a868-dfa4c22fd18b",
   "metadata": {},
   "outputs": [],
   "source": [
    "# level=2\n",
    "# level_dfs[level].describe()"
   ]
  },
  {
   "cell_type": "code",
   "execution_count": null,
   "id": "b1c03254-2105-47ab-938e-199b4f67bed1",
   "metadata": {},
   "outputs": [],
   "source": [
    "# plot_dist(df=level_dfs[level], field='seq_len', bins=50, color='b', xlabel='Sequence Length', \\\n",
    "#       ylabel='Frequency', title='Sequence Length Distribution (level {})'.format(level+1))\n",
    "# plot_dist(df=level_dfs[level], field='aspect_ratio', bins=10, color='r', xlabel='Aspect Ratio (Image Width / Image Height)', \\\n",
    "#       ylabel='Frequency', title='Aspect Ratio Distribution (level {})'.format(level+1))\n",
    "# g = sns.jointplot(\"image_width\", \"image_height\", data=level_dfs[level], kind=\"kde\", space=0, color=\"r\")\n",
    "# g.set_axis_labels(\"Image Width\", \"Image Height\")\n",
    "# token_df = pd.DataFrame(lv_latex_list[level], columns =['token'])\n",
    "# token_df['index']=token_df.index\n",
    "# token_count_df = create_count_df(df=token_df, field='token', index='index',top_token=20)\n",
    "# plot_count_df(df=token_count_df, field='token', random_sample=False, color='g', rotation=90, xlabel='Token', \\\n",
    "#           ylabel='Number of Tokens', title='Token Distribution (level {})'.format(level+1))"
   ]
  },
  {
   "cell_type": "code",
   "execution_count": null,
   "id": "897dccff-b4f5-4aaa-9418-2791f9a83599",
   "metadata": {},
   "outputs": [],
   "source": [
    "# level=3\n",
    "# level_dfs[level].describe()"
   ]
  },
  {
   "cell_type": "code",
   "execution_count": null,
   "id": "e6fb18b8-0056-482d-834d-b7cbda80a5b8",
   "metadata": {},
   "outputs": [],
   "source": [
    "# plot_dist(df=level_dfs[level], field='seq_len', bins=50, color='b', xlabel='Sequence Length', \\\n",
    "#       ylabel='Frequency', title='Sequence Length Distribution (level {})'.format(level+1))\n",
    "# plot_dist(df=level_dfs[level], field='aspect_ratio', bins=10, color='r', xlabel='Aspect Ratio (Image Width / Image Height)', \\\n",
    "#       ylabel='Frequency', title='Aspect Ratio Distribution (level {})'.format(level+1))\n",
    "# g = sns.jointplot(\"image_width\", \"image_height\", data=level_dfs[level], kind=\"kde\", space=0, color=\"r\")\n",
    "# g.set_axis_labels(\"Image Width\", \"Image Height\")\n",
    "# token_df = pd.DataFrame(lv_latex_list[level], columns =['token'])\n",
    "# token_df['index']=token_df.index\n",
    "# token_count_df = create_count_df(df=token_df, field='token', index='index',top_token=20)\n",
    "# plot_count_df(df=token_count_df, field='token', random_sample=False, color='g', rotation=90, xlabel='Token', \\\n",
    "#           ylabel='Number of Tokens', title='Token Distribution (level {})'.format(level+1))"
   ]
  },
  {
   "cell_type": "code",
   "execution_count": null,
   "id": "e2a8461b-1c47-4ba6-82cd-bea3b5dc3e65",
   "metadata": {},
   "outputs": [],
   "source": [
    "# level=4\n",
    "# level_dfs[level].describe()"
   ]
  },
  {
   "cell_type": "code",
   "execution_count": null,
   "id": "0aef684d-969d-4ac4-96b2-86c44db8536a",
   "metadata": {},
   "outputs": [],
   "source": [
    "# plot_dist(df=level_dfs[level], field='seq_len', bins=50, color='b', xlabel='Sequence Length', \\\n",
    "#       ylabel='Frequency', title='Sequence Length Distribution (level {})'.format(level+1))\n",
    "# plot_dist(df=level_dfs[level], field='aspect_ratio', bins=10, color='r', xlabel='Aspect Ratio (Image Width / Image Height)', \\\n",
    "#       ylabel='Frequency', title='Aspect Ratio Distribution (level {})'.format(level+1))\n",
    "# g = sns.jointplot(\"image_width\", \"image_height\", data=level_dfs[level], kind=\"kde\", space=0, color=\"r\")\n",
    "# g.set_axis_labels(\"Image Width\", \"Image Height\")\n",
    "# token_df = pd.DataFrame(lv_latex_list[level], columns =['token'])\n",
    "# token_df['index']=token_df.index\n",
    "# token_count_df = create_count_df(df=token_df, field='token', index='index',top_token=20)\n",
    "# plot_count_df(df=token_count_df, field='token', random_sample=False, color='g', rotation=90, xlabel='Token', \\\n",
    "#           ylabel='Number of Tokens', title='Token Distribution (level {})'.format(level+1))"
   ]
  },
  {
   "cell_type": "code",
   "execution_count": null,
   "id": "d14addd2-1955-4792-8163-5fb2f8a62fe8",
   "metadata": {},
   "outputs": [],
   "source": []
  },
  {
   "cell_type": "code",
   "execution_count": null,
   "id": "2630fb6a-117d-4e90-88ba-a4a0fa564d58",
   "metadata": {},
   "outputs": [],
   "source": []
  }
 ],
 "metadata": {
  "kernelspec": {
   "display_name": "Python 3",
   "language": "python",
   "name": "python3"
  },
  "language_info": {
   "codemirror_mode": {
    "name": "ipython",
    "version": 3
   },
   "file_extension": ".py",
   "mimetype": "text/x-python",
   "name": "python",
   "nbconvert_exporter": "python",
   "pygments_lexer": "ipython3",
   "version": "3.7.7"
  }
 },
 "nbformat": 4,
 "nbformat_minor": 5
}