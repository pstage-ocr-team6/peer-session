{
 "cells": [
  {
   "cell_type": "markdown",
   "id": "b0e5dace-b2fc-4779-ad9b-1938e6998119",
   "metadata": {},
   "source": [
    "# Attention Baseline Code (step by step)"
   ]
  },
  {
   "cell_type": "markdown",
   "id": "9fa5d897-f5bc-4d66-9843-5d0e0b270fc0",
   "metadata": {},
   "source": [
    "## import library"
   ]
  },
  {
   "cell_type": "code",
   "execution_count": 301,
   "id": "df552def-cf04-44c6-86b1-87f0c17b6971",
   "metadata": {
    "tags": []
   },
   "outputs": [],
   "source": [
    "import os\n",
    "import argparse\n",
    "import multiprocessing\n",
    "import numpy as np\n",
    "import random\n",
    "import time\n",
    "import shutil\n",
    "import torch\n",
    "import torch.nn as nn\n",
    "import torch.optim as optim\n",
    "from torchvision import transforms\n",
    "import yaml\n",
    "import PIL\n",
    "from tqdm import tqdm\n",
    "from checkpoint import (\n",
    "    default_checkpoint,\n",
    "    load_checkpoint,\n",
    "    save_checkpoint,\n",
    "    init_tensorboard,\n",
    "    write_tensorboard,\n",
    ")\n",
    "from psutil import virtual_memory\n",
    "\n",
    "from flags import Flags\n",
    "from utils import get_network, get_optimizer\n",
    "from dataset import dataset_loader, START, PAD,load_vocab\n",
    "from scheduler import CircularLRBeta\n",
    "\n",
    "from metrics import word_error_rate,sentence_acc"
   ]
  },
  {
   "cell_type": "markdown",
   "id": "bc30392e-91d4-4f4d-97f9-6c00cb39bb03",
   "metadata": {},
   "source": [
    "## Argument Parsing"
   ]
  },
  {
   "cell_type": "code",
   "execution_count": 303,
   "id": "9e6cbd17-85c3-43e1-b59d-08a68f84a77a",
   "metadata": {},
   "outputs": [],
   "source": [
    "parser = argparse.ArgumentParser()\n",
    "parser.add_argument(\n",
    "        \"-c\",\n",
    "        \"--config_file\",\n",
    "        dest=\"config_file\",\n",
    "        default=\"configs/Attention.yaml\",\n",
    "        type=str,\n",
    "        help=\"Path of configuration file\",\n",
    "    )\n",
    "parser = parser.parse_args(args=[])\n",
    "\n",
    "options = Flags(parser.config_file).get()"
   ]
  },
  {
   "cell_type": "code",
   "execution_count": 304,
   "id": "065e475f-edaf-41f1-ba69-92dc8ac42aee",
   "metadata": {},
   "outputs": [],
   "source": [
    "is_cuda = torch.cuda.is_available()\n",
    "hardware = \"cuda\" if is_cuda else \"cpu\"\n",
    "device = torch.device(hardware)"
   ]
  },
  {
   "cell_type": "code",
   "execution_count": 305,
   "id": "41e6535a-f2c7-494e-b307-97166f5d429c",
   "metadata": {},
   "outputs": [],
   "source": [
    "checkpoint = (\n",
    "        load_checkpoint(options.checkpoint, cuda=is_cuda)\n",
    "        if options.checkpoint != \"\"\n",
    "        else default_checkpoint\n",
    "    )\n",
    "model_checkpoint = checkpoint[\"model\"]"
   ]
  },
  {
   "cell_type": "markdown",
   "id": "234d0244-d3ff-439f-b7fd-aa07c176092c",
   "metadata": {},
   "source": [
    "## Dataset"
   ]
  },
  {
   "cell_type": "code",
   "execution_count": 306,
   "id": "f3aca2eb-44f0-4ff4-823e-5a5add28aca9",
   "metadata": {},
   "outputs": [],
   "source": [
    "transformed = transforms.Compose(\n",
    "        [\n",
    "            # Resize so all images have the same size\n",
    "            transforms.Resize((options.input_size.height, options.input_size.width)),\n",
    "            transforms.ToTensor(),\n",
    "        ])\n",
    "\n",
    "train_data_loader, validation_data_loader, train_dataset, valid_dataset = dataset_loader(options, transformed)"
   ]
  },
  {
   "cell_type": "code",
   "execution_count": 307,
   "id": "93bcc7ca-016a-4d30-9e22-c7ab520b39f4",
   "metadata": {},
   "outputs": [
    {
     "name": "stdout",
     "output_type": "stream",
     "text": [
      "80000\n",
      "20000\n"
     ]
    }
   ],
   "source": [
    "print(len(train_dataset))\n",
    "print(len(valid_dataset))"
   ]
  },
  {
   "cell_type": "code",
   "execution_count": 309,
   "id": "7d1154ca-c311-4b2a-9edf-e4a8e61e3a08",
   "metadata": {},
   "outputs": [
    {
     "name": "stdout",
     "output_type": "stream",
     "text": [
      "{'path': '../input/data/train_dataset/images/train_62476.jpg', 'truth': {'text': '1 2 0 = 3 0 0 -', 'encoded': [0, 125, 177, 14, 180, 111, 14, 14, 214, 1]}, 'image': tensor([[[0.5765, 0.5451, 0.4902,  ..., 0.5804, 0.5765, 0.5725],\n",
      "         [0.5804, 0.5294, 0.4510,  ..., 0.5804, 0.5765, 0.5765],\n",
      "         [0.5765, 0.5176, 0.4039,  ..., 0.5725, 0.5765, 0.5725],\n",
      "         ...,\n",
      "         [0.5176, 0.5098, 0.5176,  ..., 0.5765, 0.5765, 0.5804],\n",
      "         [0.4941, 0.4902, 0.4941,  ..., 0.5804, 0.5843, 0.5843],\n",
      "         [0.4588, 0.4588, 0.4627,  ..., 0.5765, 0.5765, 0.5765]],\n",
      "\n",
      "        [[0.5451, 0.5098, 0.4588,  ..., 0.5490, 0.5451, 0.5412],\n",
      "         [0.5490, 0.4980, 0.4196,  ..., 0.5490, 0.5451, 0.5451],\n",
      "         [0.5451, 0.4863, 0.3725,  ..., 0.5451, 0.5451, 0.5412],\n",
      "         ...,\n",
      "         [0.4980, 0.4863, 0.4902,  ..., 0.5529, 0.5529, 0.5569],\n",
      "         [0.4627, 0.4588, 0.4627,  ..., 0.5490, 0.5529, 0.5569],\n",
      "         [0.4275, 0.4275, 0.4314,  ..., 0.5451, 0.5451, 0.5451]],\n",
      "\n",
      "        [[0.5333, 0.5059, 0.4706,  ..., 0.5333, 0.5333, 0.5294],\n",
      "         [0.5373, 0.4902, 0.4314,  ..., 0.5333, 0.5333, 0.5333],\n",
      "         [0.5333, 0.4784, 0.3843,  ..., 0.5294, 0.5333, 0.5294],\n",
      "         ...,\n",
      "         [0.4784, 0.4706, 0.4784,  ..., 0.5412, 0.5412, 0.5451],\n",
      "         [0.4549, 0.4510, 0.4588,  ..., 0.5373, 0.5373, 0.5373],\n",
      "         [0.4196, 0.4196, 0.4275,  ..., 0.5333, 0.5333, 0.5333]]])}\n"
     ]
    }
   ],
   "source": [
    "data_ex = next(iter(train_dataset))\n",
    "print(data_ex)"
   ]
  },
  {
   "cell_type": "code",
   "execution_count": 310,
   "id": "2188dfa2-916f-43e1-bc92-f42813e80ebb",
   "metadata": {},
   "outputs": [
    {
     "data": {
      "image/png": "[encoded data removed]",
      "text/plain": [
       "<PIL.Image.Image image mode=RGB size=128x128 at 0x7F05DAAA1E10>"
      ]
     },
     "execution_count": 310,
     "metadata": {},
     "output_type": "execute_result"
    }
   ],
   "source": [
    "tf = transforms.ToPILImage()\n",
    "image = tf(data_ex['image'])\n",
    "image"
   ]
  },
  {
   "cell_type": "code",
   "execution_count": 311,
   "id": "036ebe0f-f185-4e8a-b8b1-b49e17e253d0",
   "metadata": {},
   "outputs": [
    {
     "name": "stdout",
     "output_type": "stream",
     "text": [
      "1 2 0 = 3 0 0 -\n",
      "8\n"
     ]
    }
   ],
   "source": [
    "print(data_ex['truth']['text'])\n",
    "print(len(data_ex['truth']['text'].split()))"
   ]
  },
  {
   "cell_type": "code",
   "execution_count": 312,
   "id": "22864fb7-ecee-4e87-95dd-d8002d2f5899",
   "metadata": {},
   "outputs": [
    {
     "name": "stdout",
     "output_type": "stream",
     "text": [
      "[0, 125, 177, 14, 180, 111, 14, 14, 214, 1]\n",
      "10\n"
     ]
    }
   ],
   "source": [
    "print(data_ex['truth']['encoded'])\n",
    "print(len(data_ex['truth']['encoded']))"
   ]
  },
  {
   "cell_type": "markdown",
   "id": "3077690e-424f-4f32-964e-ab31a080e422",
   "metadata": {},
   "source": [
    "## Learning process"
   ]
  },
  {
   "cell_type": "markdown",
   "id": "00c792f0-0ac5-4bbc-8000-b5a970a23189",
   "metadata": {},
   "source": [
    "### 1. Data load"
   ]
  },
  {
   "cell_type": "code",
   "execution_count": 313,
   "id": "b89324ee-d3f4-4bf2-b0f7-7d80a79a2c4a",
   "metadata": {},
   "outputs": [],
   "source": [
    "data = next(iter(train_data_loader))\n",
    "input = data[\"image\"].cuda()\n",
    "expected = data[\"truth\"][\"encoded\"].cuda()"
   ]
  },
  {
   "cell_type": "code",
   "execution_count": 321,
   "id": "4b3b9751-854e-4462-afbe-d69246949681",
   "metadata": {},
   "outputs": [
    {
     "name": "stdout",
     "output_type": "stream",
     "text": [
      "torch.Size([1, 3, 128, 128])\n",
      "['i \\\\times \\\\left( i \\\\times j \\\\right) = i \\\\times k = - j']\n",
      "14\n"
     ]
    }
   ],
   "source": [
    "print(input.shape)\n",
    "print(data['truth']['text'])\n",
    "print(len(data['truth']['text'][0].split(' ')))"
   ]
  },
  {
   "cell_type": "code",
   "execution_count": 319,
   "id": "8958e9ee-6e26-411e-93d0-7fd8694f1771",
   "metadata": {},
   "outputs": [
    {
     "name": "stdout",
     "output_type": "stream",
     "text": [
      "tensor([[  0, 130, 199, 229, 130, 199,  87, 137, 180, 130, 199, 169, 180, 214,\n",
      "          87,   1]], device='cuda:0')\n",
      "16\n"
     ]
    }
   ],
   "source": [
    "print(expected)\n",
    "print(len(expected[0]))"
   ]
  },
  {
   "cell_type": "code",
   "execution_count": 322,
   "id": "b258b977-7a2a-43b9-9c16-0dcb44c349e8",
   "metadata": {},
   "outputs": [],
   "source": [
    "expected[expected == -1] = train_data_loader.dataset.token_to_id[PAD]"
   ]
  },
  {
   "cell_type": "markdown",
   "id": "7722a2c9-345b-47ac-959a-4adf447c5a02",
   "metadata": {},
   "source": [
    "### 2. Network load"
   ]
  },
  {
   "cell_type": "code",
   "execution_count": 323,
   "id": "9bece180-bf6e-434b-b2d3-261f646906f0",
   "metadata": {},
   "outputs": [
    {
     "data": {
      "text/plain": [
       "Attention(\n",
       "  (encoder): CNN(\n",
       "    (conv0): Sequential(\n",
       "      (conv0): Conv2d(3, 64, kernel_size=(3, 3), stride=(1, 1), padding=(1, 1))\n",
       "      (relu0): ReLU(inplace=True)\n",
       "    )\n",
       "    (pooling0): MaxPool2d(kernel_size=2, stride=2, padding=0, dilation=1, ceil_mode=False)\n",
       "    (conv1): Sequential(\n",
       "      (conv1): Conv2d(64, 128, kernel_size=(3, 3), stride=(1, 1), padding=(1, 1))\n",
       "      (relu1): ReLU(inplace=True)\n",
       "    )\n",
       "    (pooling1): MaxPool2d(kernel_size=2, stride=2, padding=0, dilation=1, ceil_mode=False)\n",
       "    (conv2): Sequential(\n",
       "      (conv2): Conv2d(128, 256, kernel_size=(3, 3), stride=(1, 1), padding=(1, 1))\n",
       "      (batchnorm2): BatchNorm2d(256, eps=1e-05, momentum=0.1, affine=True, track_running_stats=True)\n",
       "      (relu2): ReLU(inplace=True)\n",
       "    )\n",
       "    (conv3): Sequential(\n",
       "      (conv3): Conv2d(256, 256, kernel_size=(3, 3), stride=(1, 1), padding=(1, 1))\n",
       "      (relu3): ReLU(inplace=True)\n",
       "    )\n",
       "    (pooling3): MaxPool2d(kernel_size=(2, 2), stride=(2, 1), padding=(0, 1), dilation=1, ceil_mode=False)\n",
       "    (conv4): Sequential(\n",
       "      (conv4): Conv2d(256, 512, kernel_size=(3, 3), stride=(1, 1), padding=(1, 1))\n",
       "      (batchnorm4): BatchNorm2d(512, eps=1e-05, momentum=0.1, affine=True, track_running_stats=True)\n",
       "      (relu4): ReLU(inplace=True)\n",
       "    )\n",
       "    (conv5): Sequential(\n",
       "      (conv5): Conv2d(512, 512, kernel_size=(3, 3), stride=(1, 1), padding=(1, 1))\n",
       "      (relu5): ReLU(inplace=True)\n",
       "    )\n",
       "    (pooling5): MaxPool2d(kernel_size=(2, 2), stride=(2, 1), padding=(0, 1), dilation=1, ceil_mode=False)\n",
       "    (conv6): Sequential(\n",
       "      (conv6): Conv2d(512, 512, kernel_size=(2, 2), stride=(1, 1))\n",
       "      (batchnorm6): BatchNorm2d(512, eps=1e-05, momentum=0.1, affine=True, track_running_stats=True)\n",
       "      (relu6): ReLU(inplace=True)\n",
       "    )\n",
       "  )\n",
       "  (decoder): AttentionDecoder(\n",
       "    (embedding): Embedding(246, 128)\n",
       "    (attention_cell): AttentionCell(\n",
       "      (i2h): Linear(in_features=512, out_features=128, bias=False)\n",
       "      (h2h): Linear(in_features=128, out_features=128, bias=True)\n",
       "      (score): Linear(in_features=128, out_features=1, bias=False)\n",
       "      (rnn): LSTMCell(640, 128)\n",
       "    )\n",
       "    (generator): Linear(in_features=128, out_features=245, bias=True)\n",
       "  )\n",
       "  (criterion): CrossEntropyLoss()\n",
       ")"
      ]
     },
     "execution_count": 323,
     "metadata": {},
     "output_type": "execute_result"
    }
   ],
   "source": [
    "model = get_network(\n",
    "        options.network,\n",
    "        options,\n",
    "        model_checkpoint,\n",
    "        device,\n",
    "        train_dataset,\n",
    "    )\n",
    "model.cuda()\n",
    "model.train()"
   ]
  },
  {
   "cell_type": "code",
   "execution_count": 324,
   "id": "c79f1a8b-d672-44e7-9df1-7dd0837f8987",
   "metadata": {},
   "outputs": [
    {
     "data": {
      "text/plain": [
       "odict_keys(['encoder', 'decoder', 'criterion'])"
      ]
     },
     "execution_count": 324,
     "metadata": {},
     "output_type": "execute_result"
    }
   ],
   "source": [
    "model._modules.keys()"
   ]
  },
  {
   "cell_type": "markdown",
   "id": "66ecc00e-9be3-4af2-a519-25663ccc9329",
   "metadata": {},
   "source": [
    "## 3. Forward path"
   ]
  },
  {
   "cell_type": "code",
   "execution_count": 326,
   "id": "ceee7dea-b1e6-4553-b4ed-e4aa0ace16b6",
   "metadata": {},
   "outputs": [],
   "source": [
    "output = model(input, expected, True, 1)"
   ]
  },
  {
   "cell_type": "code",
   "execution_count": 327,
   "id": "c025c9b2-f930-4cf5-b0cf-be3ab6023c2e",
   "metadata": {},
   "outputs": [
    {
     "name": "stdout",
     "output_type": "stream",
     "text": [
      "tensor([[[-0.0047,  0.0214, -0.0293,  ...,  0.0471,  0.1442, -0.1092],\n",
      "         [ 0.0348, -0.0907,  0.0161,  ...,  0.0021,  0.0987, -0.1614],\n",
      "         [-0.1384,  0.0376,  0.0264,  ..., -0.1363,  0.1685, -0.0284],\n",
      "         ...,\n",
      "         [-0.0486, -0.0197,  0.1072,  ...,  0.0183,  0.1424, -0.0794],\n",
      "         [ 0.0646, -0.0916, -0.0379,  ...,  0.0753,  0.0709,  0.0716],\n",
      "         [-0.1602, -0.0189, -0.1951,  ..., -0.0038,  0.1068,  0.0080]]],\n",
      "       device='cuda:0', grad_fn=<AddBackward0>)\n",
      "torch.Size([1, 15, 245])\n"
     ]
    }
   ],
   "source": [
    "print(output)\n",
    "print(output.shape)"
   ]
  },
  {
   "cell_type": "markdown",
   "id": "5b058819-1279-4c4c-896e-dd0f69242441",
   "metadata": {},
   "source": [
    "### 4. Loss calculate"
   ]
  },
  {
   "cell_type": "code",
   "execution_count": 325,
   "id": "0cdd102b-115e-460c-b751-4688c32d736f",
   "metadata": {},
   "outputs": [],
   "source": [
    "criterion = model.criterion.to(device)"
   ]
  },
  {
   "cell_type": "code",
   "execution_count": 328,
   "id": "8a86ec1a-8bfc-43a8-9116-31fe3b4b9525",
   "metadata": {},
   "outputs": [
    {
     "name": "stdout",
     "output_type": "stream",
     "text": [
      "torch.Size([1, 245, 15])\n"
     ]
    }
   ],
   "source": [
    "decoded_values = output.transpose(1, 2)\n",
    "print(decoded_values.shape)"
   ]
  },
  {
   "cell_type": "code",
   "execution_count": 333,
   "id": "a41336d2-13f3-4ea7-9641-9c261bcd35cd",
   "metadata": {},
   "outputs": [
    {
     "name": "stdout",
     "output_type": "stream",
     "text": [
      "tensor([[[118, 118, 110,  47, 118, 110, 196, 110, 196, 118, 196, 238,  33,  99,\n",
      "          196]]], device='cuda:0')\n",
      "15\n"
     ]
    }
   ],
   "source": [
    "_, sequence = torch.topk(decoded_values, 1, dim=1)\n",
    "print(sequence)\n",
    "print(len(sequence[0][0]))"
   ]
  },
  {
   "cell_type": "code",
   "execution_count": 330,
   "id": "bd4037c8-534e-4a00-bd53-0635131d5bb1",
   "metadata": {},
   "outputs": [
    {
     "name": "stdout",
     "output_type": "stream",
     "text": [
      "torch.Size([1, 1, 15])\n",
      "torch.Size([1, 15])\n"
     ]
    }
   ],
   "source": [
    "print(sequence.shape)\n",
    "sequence = sequence.squeeze(1)\n",
    "print(sequence.shape)"
   ]
  },
  {
   "cell_type": "code",
   "execution_count": 334,
   "id": "48168bc3-a4be-4986-9243-34bc31271e96",
   "metadata": {},
   "outputs": [
    {
     "name": "stdout",
     "output_type": "stream",
     "text": [
      "15\n",
      "torch.Size([1, 245, 15])\n"
     ]
    }
   ],
   "source": [
    "print(len(expected[:,1:][0]))\n",
    "print(decoded_values.shape)"
   ]
  },
  {
   "cell_type": "code",
   "execution_count": 336,
   "id": "8ed09b9b-2d82-4bc8-89f8-bc675d42bad1",
   "metadata": {},
   "outputs": [
    {
     "name": "stdout",
     "output_type": "stream",
     "text": [
      "tensor(5.5247, device='cuda:0', grad_fn=<NllLoss2DBackward>)\n"
     ]
    }
   ],
   "source": [
    "loss = criterion(decoded_values, expected[:, 1:])\n",
    "print(loss)"
   ]
  },
  {
   "cell_type": "markdown",
   "id": "9e8e9227-3ace-4c2e-8087-b46991fb3334",
   "metadata": {},
   "source": [
    "### 5. Evaulate"
   ]
  },
  {
   "cell_type": "code",
   "execution_count": 337,
   "id": "6ea22269-e33d-475d-b429-f5a5fa76dd42",
   "metadata": {},
   "outputs": [],
   "source": [
    "def id_to_string(tokens, data_loader,do_eval=0):\n",
    "    result = []\n",
    "    if do_eval:\n",
    "        special_ids = [data_loader.dataset.token_to_id[\"<PAD>\"], data_loader.dataset.token_to_id[\"<SOS>\"],\n",
    "                       data_loader.dataset.token_to_id[\"<EOS>\"]]\n",
    "\n",
    "    for example in tokens:\n",
    "        string = \"\"\n",
    "        if do_eval:\n",
    "            for token in example:\n",
    "                token = token.item()\n",
    "                if token not in special_ids:\n",
    "                    if token != -1:\n",
    "                        string += data_loader.dataset.id_to_token[token] + \" \"\n",
    "        else:\n",
    "            for token in example:\n",
    "                token = token.item()\n",
    "                if token != -1:\n",
    "                    string += data_loader.dataset.id_to_token[token] + \" \"\n",
    "\n",
    "        result.append(string)\n",
    "    return result"
   ]
  },
  {
   "cell_type": "code",
   "execution_count": 338,
   "id": "e23076b4-4e00-4542-9f47-058e7fd3ad36",
   "metadata": {},
   "outputs": [],
   "source": [
    "correct_symbols = 0\n",
    "total_symbols = 0\n",
    "wer=0\n",
    "num_wer=0\n",
    "sent_acc=0\n",
    "num_sent_acc=0"
   ]
  },
  {
   "cell_type": "code",
   "execution_count": 339,
   "id": "c5d47f11-c669-4a79-81fa-66b2bb1e3a8c",
   "metadata": {
    "tags": []
   },
   "outputs": [],
   "source": [
    "expected[expected == train_data_loader.dataset.token_to_id[PAD]] = -1"
   ]
  },
  {
   "cell_type": "code",
   "execution_count": 340,
   "id": "4f548282-e8e8-40db-9ed8-e6917aaf5b8b",
   "metadata": {},
   "outputs": [],
   "source": [
    "expected_str = id_to_string(expected, train_data_loader,do_eval=1)"
   ]
  },
  {
   "cell_type": "code",
   "execution_count": 341,
   "id": "36a510bf-d954-475d-9908-6dacbb08fb14",
   "metadata": {},
   "outputs": [
    {
     "data": {
      "text/plain": [
       "['i \\\\times \\\\left( i \\\\times j \\\\right) = i \\\\times k = - j ']"
      ]
     },
     "execution_count": 341,
     "metadata": {},
     "output_type": "execute_result"
    }
   ],
   "source": [
    "expected_str"
   ]
  },
  {
   "cell_type": "code",
   "execution_count": 345,
   "id": "9fd470b7-da85-468d-876d-0d5f881b1133",
   "metadata": {},
   "outputs": [],
   "source": [
    "sequence_str = id_to_string(sequence[0], train_data_loader,do_eval=1)"
   ]
  },
  {
   "cell_type": "code",
   "execution_count": 346,
   "id": "6b245af8-7bb2-4754-881b-4fb85497b1a3",
   "metadata": {},
   "outputs": [
    {
     "data": {
      "text/plain": [
       "['\\\\nexists \\\\nexists \\\\xi \\\\wedge \\\\nexists \\\\xi \\\\overline \\\\xi \\\\overline \\\\nexists \\\\overline \\\\otimes \\\\theta y \\\\overline ']"
      ]
     },
     "execution_count": 346,
     "metadata": {},
     "output_type": "execute_result"
    }
   ],
   "source": [
    "sequence_str"
   ]
  },
  {
   "cell_type": "markdown",
   "id": "bd9a7cf7-8015-4aea-aa6f-74f050bbf3ff",
   "metadata": {},
   "source": [
    "#### Word Error rate"
   ]
  },
  {
   "cell_type": "code",
   "execution_count": 347,
   "id": "6296e96c-c00a-4256-81cf-6ea616ad5225",
   "metadata": {},
   "outputs": [],
   "source": [
    "import editdistance\n",
    "import numpy as np"
   ]
  },
  {
   "cell_type": "code",
   "execution_count": 348,
   "id": "62397809-723a-4daa-b215-3e6c88a61a68",
   "metadata": {},
   "outputs": [],
   "source": [
    "sum_wer=0.0\n",
    "for output,ground_truth in zip(sequence_str,expected_str):\n",
    "\t\toutput=output.split(\" \")\n",
    "\t\tground_truth=ground_truth.split(\" \")\n",
    "\t\tdistance = editdistance.eval(output, ground_truth)\n",
    "\t\tlength = max(len(output),len(ground_truth))\n",
    "\t\tsum_wer+=(distance/length)\n",
    "wer = sum_wer"
   ]
  },
  {
   "cell_type": "code",
   "execution_count": 349,
   "id": "e7e5d5ed-87ef-4339-9c4b-85c5cc776def",
   "metadata": {},
   "outputs": [
    {
     "data": {
      "text/plain": [
       "0.9375"
      ]
     },
     "execution_count": 349,
     "metadata": {},
     "output_type": "execute_result"
    }
   ],
   "source": [
    "wer"
   ]
  },
  {
   "cell_type": "markdown",
   "id": "0c533e0f-4882-4c92-b453-8682a44e9c21",
   "metadata": {},
   "source": [
    "#### Sentence Accuracy"
   ]
  },
  {
   "cell_type": "code",
   "execution_count": 350,
   "id": "3aa9e203-710b-4024-b2a4-e9e72d4bb585",
   "metadata": {},
   "outputs": [],
   "source": [
    "correct_sentences=0\n",
    "for output,ground_truth in zip(sequence_str,expected_str):\n",
    "\tif np.array_equal(output,ground_truth):\n",
    "\t\tcorrect_sentences+=1\n",
    "sent_acc = correct_sentences"
   ]
  },
  {
   "cell_type": "code",
   "execution_count": 351,
   "id": "b278ff3a-bb8f-48c9-90fe-ca55272cf58f",
   "metadata": {},
   "outputs": [
    {
     "data": {
      "text/plain": [
       "0"
      ]
     },
     "execution_count": 351,
     "metadata": {},
     "output_type": "execute_result"
    }
   ],
   "source": [
    "sent_acc"
   ]
  },
  {
   "cell_type": "markdown",
   "id": "63053d3b-5f34-4e3f-88d7-ead692abbe94",
   "metadata": {},
   "source": [
    "#### Correct/Total symbol"
   ]
  },
  {
   "cell_type": "code",
   "execution_count": 353,
   "id": "07a69c47-5651-4a92-a9ed-75ae75dd2a9b",
   "metadata": {},
   "outputs": [],
   "source": [
    "correct_symbols += torch.sum(sequence[0] == expected[:, 1:], dim=(0, 1)).item()"
   ]
  },
  {
   "cell_type": "code",
   "execution_count": 354,
   "id": "88159ae9-2650-4715-82c0-80a183f86861",
   "metadata": {},
   "outputs": [
    {
     "data": {
      "text/plain": [
       "0"
      ]
     },
     "execution_count": 354,
     "metadata": {},
     "output_type": "execute_result"
    }
   ],
   "source": [
    "correct_symbols"
   ]
  },
  {
   "cell_type": "code",
   "execution_count": 355,
   "id": "a4c58b79-ae89-4f0e-a28c-82f7c8105de8",
   "metadata": {},
   "outputs": [],
   "source": [
    "total_symbols += torch.sum(expected[:, 1:] != -1, dim=(0, 1)).item()"
   ]
  },
  {
   "cell_type": "code",
   "execution_count": 356,
   "id": "c60ca0da-78f5-4480-aa63-593cfcb26bbd",
   "metadata": {},
   "outputs": [
    {
     "data": {
      "text/plain": [
       "15"
      ]
     },
     "execution_count": 356,
     "metadata": {},
     "output_type": "execute_result"
    }
   ],
   "source": [
    "total_symbols"
   ]
  },
  {
   "cell_type": "markdown",
   "id": "c47e5c32-96c6-414f-a55e-9665a5d71f59",
   "metadata": {},
   "source": [
    "## Network (Encoder / Decoder)"
   ]
  },
  {
   "cell_type": "code",
   "execution_count": 357,
   "id": "af6d8a35-f7bd-4133-b041-75ac409ba8a0",
   "metadata": {},
   "outputs": [],
   "source": [
    "import torch\n",
    "import torch.nn as nn\n",
    "import torch.nn.functional as F\n",
    "import numpy as np\n",
    "import math\n",
    "import random\n",
    "\n",
    "from dataset import START, PAD\n",
    "from networks.Attention import CNN, AttentionCell, AttentionDecoder"
   ]
  },
  {
   "cell_type": "markdown",
   "id": "98eca37e-1688-48d5-9176-6eaef6f82f47",
   "metadata": {},
   "source": [
    "### 1. Data"
   ]
  },
  {
   "cell_type": "code",
   "execution_count": 358,
   "id": "353aa454-ae28-44a2-ac67-42b9827813d0",
   "metadata": {},
   "outputs": [
    {
     "name": "stdout",
     "output_type": "stream",
     "text": [
      "torch.Size([1, 3, 128, 128])\n",
      "['i \\\\times \\\\left( i \\\\times j \\\\right) = i \\\\times k = - j']\n",
      "14\n"
     ]
    }
   ],
   "source": [
    "print(input.shape)\n",
    "print(data['truth']['text'])\n",
    "print(len(data['truth']['text'][0].split(' ')))"
   ]
  },
  {
   "cell_type": "code",
   "execution_count": 359,
   "id": "5362fb2e-09f3-4806-8d55-fb671a7cb987",
   "metadata": {},
   "outputs": [
    {
     "name": "stdout",
     "output_type": "stream",
     "text": [
      "tensor([[  0, 130, 199, 229, 130, 199,  87, 137, 180, 130, 199, 169, 180, 214,\n",
      "          87,   1]], device='cuda:0')\n",
      "16\n"
     ]
    }
   ],
   "source": [
    "print(expected)\n",
    "print(len(expected[0]))"
   ]
  },
  {
   "cell_type": "markdown",
   "id": "72f83117-327d-4cc6-a06a-4e935216669d",
   "metadata": {},
   "source": [
    "### 2. Attention Network"
   ]
  },
  {
   "cell_type": "code",
   "execution_count": 360,
   "id": "8f72b34a-e1c8-4fd9-bbc9-67d7ef167077",
   "metadata": {},
   "outputs": [],
   "source": [
    "FLAGS = options\n",
    "train_dataset = train_dataset\n",
    "checkpoint = None"
   ]
  },
  {
   "cell_type": "code",
   "execution_count": 361,
   "id": "ea7bd7ac-21e5-40e3-b13d-855a0a30b87f",
   "metadata": {},
   "outputs": [],
   "source": [
    "encoder = CNN(FLAGS.data.rgb)"
   ]
  },
  {
   "cell_type": "code",
   "execution_count": 362,
   "id": "0d1e6bff-a487-4167-8cf4-cc79cff07491",
   "metadata": {},
   "outputs": [
    {
     "data": {
      "text/plain": [
       "CNN(\n",
       "  (conv0): Sequential(\n",
       "    (conv0): Conv2d(3, 64, kernel_size=(3, 3), stride=(1, 1), padding=(1, 1))\n",
       "    (relu0): ReLU(inplace=True)\n",
       "  )\n",
       "  (pooling0): MaxPool2d(kernel_size=2, stride=2, padding=0, dilation=1, ceil_mode=False)\n",
       "  (conv1): Sequential(\n",
       "    (conv1): Conv2d(64, 128, kernel_size=(3, 3), stride=(1, 1), padding=(1, 1))\n",
       "    (relu1): ReLU(inplace=True)\n",
       "  )\n",
       "  (pooling1): MaxPool2d(kernel_size=2, stride=2, padding=0, dilation=1, ceil_mode=False)\n",
       "  (conv2): Sequential(\n",
       "    (conv2): Conv2d(128, 256, kernel_size=(3, 3), stride=(1, 1), padding=(1, 1))\n",
       "    (batchnorm2): BatchNorm2d(256, eps=1e-05, momentum=0.1, affine=True, track_running_stats=True)\n",
       "    (relu2): ReLU(inplace=True)\n",
       "  )\n",
       "  (conv3): Sequential(\n",
       "    (conv3): Conv2d(256, 256, kernel_size=(3, 3), stride=(1, 1), padding=(1, 1))\n",
       "    (relu3): ReLU(inplace=True)\n",
       "  )\n",
       "  (pooling3): MaxPool2d(kernel_size=(2, 2), stride=(2, 1), padding=(0, 1), dilation=1, ceil_mode=False)\n",
       "  (conv4): Sequential(\n",
       "    (conv4): Conv2d(256, 512, kernel_size=(3, 3), stride=(1, 1), padding=(1, 1))\n",
       "    (batchnorm4): BatchNorm2d(512, eps=1e-05, momentum=0.1, affine=True, track_running_stats=True)\n",
       "    (relu4): ReLU(inplace=True)\n",
       "  )\n",
       "  (conv5): Sequential(\n",
       "    (conv5): Conv2d(512, 512, kernel_size=(3, 3), stride=(1, 1), padding=(1, 1))\n",
       "    (relu5): ReLU(inplace=True)\n",
       "  )\n",
       "  (pooling5): MaxPool2d(kernel_size=(2, 2), stride=(2, 1), padding=(0, 1), dilation=1, ceil_mode=False)\n",
       "  (conv6): Sequential(\n",
       "    (conv6): Conv2d(512, 512, kernel_size=(2, 2), stride=(1, 1))\n",
       "    (batchnorm6): BatchNorm2d(512, eps=1e-05, momentum=0.1, affine=True, track_running_stats=True)\n",
       "    (relu6): ReLU(inplace=True)\n",
       "  )\n",
       ")"
      ]
     },
     "execution_count": 362,
     "metadata": {},
     "output_type": "execute_result"
    }
   ],
   "source": [
    "encoder.cuda()"
   ]
  },
  {
   "cell_type": "code",
   "execution_count": 363,
   "id": "2d52866f-3f62-49f0-aa91-ca32fd8ac9ee",
   "metadata": {},
   "outputs": [],
   "source": [
    "decoder = AttentionDecoder(\n",
    "            num_classes=len(train_dataset.id_to_token),\n",
    "            src_dim=FLAGS.Attention.src_dim,\n",
    "            embedding_dim=FLAGS.Attention.embedding_dim,\n",
    "            hidden_dim=FLAGS.Attention.hidden_dim,\n",
    "            pad_id=train_dataset.token_to_id[PAD],\n",
    "            st_id=train_dataset.token_to_id[START],\n",
    "            num_layers=FLAGS.Attention.layer_num,\n",
    "            cell_type=FLAGS.Attention.cell_type)"
   ]
  },
  {
   "cell_type": "code",
   "execution_count": 364,
   "id": "393069ad-5d03-4304-8772-386ce5105887",
   "metadata": {},
   "outputs": [
    {
     "data": {
      "text/plain": [
       "AttentionDecoder(\n",
       "  (embedding): Embedding(246, 128)\n",
       "  (attention_cell): AttentionCell(\n",
       "    (i2h): Linear(in_features=512, out_features=128, bias=False)\n",
       "    (h2h): Linear(in_features=128, out_features=128, bias=True)\n",
       "    (score): Linear(in_features=128, out_features=1, bias=False)\n",
       "    (rnn): LSTMCell(640, 128)\n",
       "  )\n",
       "  (generator): Linear(in_features=128, out_features=245, bias=True)\n",
       ")"
      ]
     },
     "execution_count": 364,
     "metadata": {},
     "output_type": "execute_result"
    }
   ],
   "source": [
    "decoder.cuda()"
   ]
  },
  {
   "cell_type": "code",
   "execution_count": 365,
   "id": "e9882b78-044b-430e-b5e8-868c79b52296",
   "metadata": {},
   "outputs": [],
   "source": [
    "criterion = (nn.CrossEntropyLoss())"
   ]
  },
  {
   "cell_type": "markdown",
   "id": "7483c6aa-136d-4ec9-a0e3-eb13982ced84",
   "metadata": {},
   "source": [
    "### 3. Forward Path"
   ]
  },
  {
   "cell_type": "code",
   "execution_count": 366,
   "id": "14cb4e50-96d0-4a09-aa81-926151df9822",
   "metadata": {},
   "outputs": [
    {
     "name": "stdout",
     "output_type": "stream",
     "text": [
      "torch.Size([1, 512, 7, 33])\n"
     ]
    }
   ],
   "source": [
    "out = encoder(input)\n",
    "print(out.shape)"
   ]
  },
  {
   "cell_type": "code",
   "execution_count": 367,
   "id": "449dc35f-7e01-4971-af6f-1765b5af7d1a",
   "metadata": {},
   "outputs": [
    {
     "name": "stdout",
     "output_type": "stream",
     "text": [
      "torch.Size([1, 231, 512])\n"
     ]
    }
   ],
   "source": [
    "b, c, h, w = out.size()\n",
    "out = out.view(b, c, h * w).transpose(1, 2)\n",
    "print(out.shape)"
   ]
  },
  {
   "cell_type": "code",
   "execution_count": 368,
   "id": "e10a8ae2-9056-45c1-8f99-4e8eac278f7d",
   "metadata": {},
   "outputs": [
    {
     "name": "stdout",
     "output_type": "stream",
     "text": [
      "torch.Size([1, 15, 245])\n"
     ]
    }
   ],
   "source": [
    "output = decoder(out, expected, 'train', 1, batch_max_length=expected.size(1))\n",
    "print(output.shape)"
   ]
  },
  {
   "cell_type": "markdown",
   "id": "02b9c53b-6261-43ee-a0fd-7c1e1a0ce085",
   "metadata": {},
   "source": [
    "## Network (AttentionDecoder)"
   ]
  },
  {
   "cell_type": "markdown",
   "id": "3c9eabcb-8d1f-4175-be51-60494a2f292e",
   "metadata": {},
   "source": [
    "### 1. Data"
   ]
  },
  {
   "cell_type": "code",
   "execution_count": 373,
   "id": "9e1e93df-c3dc-4155-ae1d-25384909d54f",
   "metadata": {},
   "outputs": [
    {
     "name": "stdout",
     "output_type": "stream",
     "text": [
      "torch.Size([1, 3, 128, 128])\n",
      "['i \\\\times \\\\left( i \\\\times j \\\\right) = i \\\\times k = - j']\n",
      "14\n",
      "tensor([[  0, 130, 199, 229, 130, 199,  87, 137, 180, 130, 199, 169, 180, 214,\n",
      "          87,   1]], device='cuda:0')\n",
      "16\n"
     ]
    }
   ],
   "source": [
    "print(input.shape)\n",
    "print(data['truth']['text'])\n",
    "print(len(data['truth']['text'][0].split(' ')))\n",
    "print(expected)\n",
    "print(len(expected[0]))"
   ]
  },
  {
   "cell_type": "markdown",
   "id": "3c8916d8-87f7-4b85-8beb-6eeb4f609aba",
   "metadata": {},
   "source": [
    "### 2. Encoder"
   ]
  },
  {
   "cell_type": "code",
   "execution_count": 374,
   "id": "66b53b04-7d59-4c83-b5cd-cf9044ad1f0e",
   "metadata": {},
   "outputs": [
    {
     "name": "stdout",
     "output_type": "stream",
     "text": [
      "torch.Size([1, 512, 7, 33])\n",
      "torch.Size([1, 231, 512])\n"
     ]
    }
   ],
   "source": [
    "out = encoder(input)\n",
    "print(out.shape)\n",
    "b, c, h, w = out.size()\n",
    "out = out.view(b, c, h * w).transpose(1, 2)  # [b, h x w, c]\n",
    "print(out.shape)"
   ]
  },
  {
   "cell_type": "markdown",
   "id": "e448d73a-c34b-4e01-ab8f-1afb61e595ed",
   "metadata": {},
   "source": [
    "### 3. AttentionDecoder"
   ]
  },
  {
   "cell_type": "code",
   "execution_count": 375,
   "id": "2b3375a5-1360-4a6d-9704-5371f7ba88b2",
   "metadata": {},
   "outputs": [],
   "source": [
    "num_classes = len(train_dataset.id_to_token)\n",
    "src_dim = FLAGS.Attention.src_dim\n",
    "embedding_dim =FLAGS.Attention.embedding_dim\n",
    "hidden_dim =FLAGS.Attention.hidden_dim\n",
    "pad_id = train_dataset.token_to_id[PAD]\n",
    "st_id = train_dataset.token_to_id[START]\n",
    "num_layers=1\n",
    "cell_type='LSTM'\n",
    "checkpoint=None"
   ]
  },
  {
   "cell_type": "code",
   "execution_count": 376,
   "id": "202f8d9a-9bb5-40be-a197-d0156fb1a2e6",
   "metadata": {},
   "outputs": [],
   "source": [
    "embedding = nn.Embedding(num_classes + 1, embedding_dim)"
   ]
  },
  {
   "cell_type": "code",
   "execution_count": 377,
   "id": "0a31758e-d5fd-4667-964e-06ce2a754f7f",
   "metadata": {},
   "outputs": [
    {
     "data": {
      "text/plain": [
       "Embedding(246, 128)"
      ]
     },
     "execution_count": 377,
     "metadata": {},
     "output_type": "execute_result"
    }
   ],
   "source": [
    "embedding.cuda()"
   ]
  },
  {
   "cell_type": "code",
   "execution_count": 378,
   "id": "68352256-0702-4b16-baa6-8d5982e162ea",
   "metadata": {},
   "outputs": [],
   "source": [
    "attention_cell = AttentionCell(\n",
    "            src_dim, hidden_dim, embedding_dim, num_layers, cell_type\n",
    "        )"
   ]
  },
  {
   "cell_type": "code",
   "execution_count": 379,
   "id": "cf12b9ce-39b6-4abf-9e94-00e79c5bbd5a",
   "metadata": {},
   "outputs": [
    {
     "data": {
      "text/plain": [
       "AttentionCell(\n",
       "  (i2h): Linear(in_features=512, out_features=128, bias=False)\n",
       "  (h2h): Linear(in_features=128, out_features=128, bias=True)\n",
       "  (score): Linear(in_features=128, out_features=1, bias=False)\n",
       "  (rnn): LSTMCell(640, 128)\n",
       ")"
      ]
     },
     "execution_count": 379,
     "metadata": {},
     "output_type": "execute_result"
    }
   ],
   "source": [
    "attention_cell.cuda()"
   ]
  },
  {
   "cell_type": "code",
   "execution_count": 380,
   "id": "a199c895-b564-4b0c-9a0d-069cf4821965",
   "metadata": {},
   "outputs": [],
   "source": [
    "generator = nn.Linear(hidden_dim, num_classes)"
   ]
  },
  {
   "cell_type": "code",
   "execution_count": 381,
   "id": "a2815f62-02a9-461f-a809-e844cec15113",
   "metadata": {},
   "outputs": [
    {
     "data": {
      "text/plain": [
       "Linear(in_features=128, out_features=245, bias=True)"
      ]
     },
     "execution_count": 381,
     "metadata": {},
     "output_type": "execute_result"
    }
   ],
   "source": [
    "generator.cuda()"
   ]
  },
  {
   "cell_type": "markdown",
   "id": "43f4a050-c2bc-4541-917d-89ab76e6b55b",
   "metadata": {},
   "source": [
    "### 4. Forward Path"
   ]
  },
  {
   "cell_type": "code",
   "execution_count": 382,
   "id": "6badc254-2b48-4e71-9ca2-5bb893d93a82",
   "metadata": {},
   "outputs": [
    {
     "name": "stdout",
     "output_type": "stream",
     "text": [
      "torch.Size([1, 231, 512])\n",
      "torch.Size([16])\n"
     ]
    }
   ],
   "source": [
    "src = out\n",
    "print(src.shape)\n",
    "text = expected\n",
    "print(text[0].shape)\n",
    "is_train = True\n",
    "teacher_forcing_ratio=1.0\n",
    "batch_max_length = expected.size(1)"
   ]
  },
  {
   "cell_type": "code",
   "execution_count": 383,
   "id": "5a33beaf-1ada-481a-af15-16f9046e50a2",
   "metadata": {},
   "outputs": [],
   "source": [
    "batch_size = src.size(0)\n",
    "num_steps = batch_max_length - 1 "
   ]
  },
  {
   "cell_type": "code",
   "execution_count": 384,
   "id": "1f63fc25-873a-43fe-959a-2c6fcc7111d2",
   "metadata": {},
   "outputs": [],
   "source": [
    "output_hiddens = (\n",
    "            torch.FloatTensor(batch_size, num_steps, hidden_dim)\n",
    "            .fill_(0)\n",
    "            .to(device)\n",
    "        )"
   ]
  },
  {
   "cell_type": "code",
   "execution_count": 385,
   "id": "50527d77-a1f6-48f4-a557-36b4301f82a0",
   "metadata": {},
   "outputs": [
    {
     "data": {
      "text/plain": [
       "torch.Size([1, 15, 128])"
      ]
     },
     "execution_count": 385,
     "metadata": {},
     "output_type": "execute_result"
    }
   ],
   "source": [
    "output_hiddens.shape"
   ]
  },
  {
   "cell_type": "code",
   "execution_count": 386,
   "id": "dd9e06ad-81cb-45c8-8d61-08bfea6d3c84",
   "metadata": {},
   "outputs": [],
   "source": [
    "if num_layers == 1:\n",
    "            hidden = (\n",
    "                torch.FloatTensor(batch_size, hidden_dim).fill_(0).to(device),\n",
    "                torch.FloatTensor(batch_size, hidden_dim).fill_(0).to(device),\n",
    "            )"
   ]
  },
  {
   "cell_type": "code",
   "execution_count": 387,
   "id": "dc03a6c5-9cb1-4f4a-93a4-37b01d95308a",
   "metadata": {},
   "outputs": [
    {
     "data": {
      "text/plain": [
       "torch.Size([1, 128])"
      ]
     },
     "execution_count": 387,
     "metadata": {},
     "output_type": "execute_result"
    }
   ],
   "source": [
    "hidden[0].shape"
   ]
  },
  {
   "cell_type": "code",
   "execution_count": 389,
   "id": "9b9001e2-b38f-49b8-aafb-d5f16a1340fe",
   "metadata": {},
   "outputs": [
    {
     "name": "stdout",
     "output_type": "stream",
     "text": [
      "torch.Size([1, 128])\n",
      "torch.Size([1, 128])\n",
      "torch.Size([1, 231, 1])\n",
      "torch.Size([1, 15, 245])\n"
     ]
    }
   ],
   "source": [
    "if is_train and random.random() <= teacher_forcing_ratio:\n",
    "    for i in range(num_steps):\n",
    "        # one-hot vectors for a i-th char. in a batch\n",
    "        embedd = embedding(text[:, i])\n",
    "        # hidden : decoder's hidden s_{t-1}, batch_H : encoder's hidden H, char_onehots : one-hot(y_{t-1})\n",
    "        hidden, alpha = attention_cell(hidden, src, embedd)\n",
    "        if num_layers == 1:\n",
    "            output_hiddens[:, i, :] = hidden[0]  # LSTM hidden index (0: hidden, 1: Cell)\n",
    "        else:\n",
    "            output_hiddens[:, i, :] = hidden[-1][0]\n",
    "    \n",
    "    print(embedd.shape)\n",
    "    print(hidden[0].shape)\n",
    "    print(alpha.shape)\n",
    "    \n",
    "    probs = generator(output_hiddens)\n",
    "    print(probs.shape)"
   ]
  },
  {
   "cell_type": "markdown",
   "id": "7f2a3c69-dfbd-4cd6-933d-21d67053c1ab",
   "metadata": {},
   "source": [
    "## Network (AttentionCell)"
   ]
  },
  {
   "cell_type": "code",
   "execution_count": 390,
   "id": "99739c3f-3534-4f54-b670-6baae5d0016c",
   "metadata": {},
   "outputs": [],
   "source": [
    "src_dim = src_dim\n",
    "hidden_dim = hidden_dim\n",
    "embedding_dim = embedding_dim\n",
    "num_layers = 1\n",
    "cell_type = 'LSTM'"
   ]
  },
  {
   "cell_type": "markdown",
   "id": "0d9b8283-c8e0-4bec-908d-2b479ed4bea1",
   "metadata": {},
   "source": [
    "### 1. Data"
   ]
  },
  {
   "cell_type": "code",
   "execution_count": 391,
   "id": "b2ebe0ff-395e-488f-956c-255d87199f3d",
   "metadata": {},
   "outputs": [
    {
     "name": "stdout",
     "output_type": "stream",
     "text": [
      "torch.Size([1, 128])\n"
     ]
    }
   ],
   "source": [
    "embedd = embedding(text[:, 0])\n",
    "print(embedd.shape)"
   ]
  },
  {
   "cell_type": "code",
   "execution_count": 392,
   "id": "1dc04100-1fdc-4a52-850a-1838a5ff0644",
   "metadata": {},
   "outputs": [
    {
     "name": "stdout",
     "output_type": "stream",
     "text": [
      "torch.Size([1, 128])\n",
      "torch.Size([1, 231, 512])\n"
     ]
    }
   ],
   "source": [
    "print(hidden[0].shape)\n",
    "print(src.shape)"
   ]
  },
  {
   "cell_type": "markdown",
   "id": "031b849d-2c52-41da-a6e7-9b430dde5bf1",
   "metadata": {},
   "source": [
    "### 2. Weight"
   ]
  },
  {
   "cell_type": "code",
   "execution_count": 393,
   "id": "ad7657cf-f097-44df-a7ab-69e9649c0869",
   "metadata": {},
   "outputs": [],
   "source": [
    "i2h = nn.Linear(src_dim, hidden_dim, bias=False)"
   ]
  },
  {
   "cell_type": "code",
   "execution_count": 394,
   "id": "29e85e03-6832-4f56-bd2e-6fb7a95959e9",
   "metadata": {},
   "outputs": [
    {
     "data": {
      "text/plain": [
       "Linear(in_features=512, out_features=128, bias=False)"
      ]
     },
     "execution_count": 394,
     "metadata": {},
     "output_type": "execute_result"
    }
   ],
   "source": [
    "i2h.cuda()"
   ]
  },
  {
   "cell_type": "code",
   "execution_count": 395,
   "id": "51698670-eb08-44b0-b616-78f72bda3ee3",
   "metadata": {},
   "outputs": [],
   "source": [
    "h2h = nn.Linear(hidden_dim, hidden_dim)"
   ]
  },
  {
   "cell_type": "code",
   "execution_count": 396,
   "id": "5dea7069-86b9-438b-ba70-9adebd653586",
   "metadata": {},
   "outputs": [
    {
     "data": {
      "text/plain": [
       "Linear(in_features=128, out_features=128, bias=True)"
      ]
     },
     "execution_count": 396,
     "metadata": {},
     "output_type": "execute_result"
    }
   ],
   "source": [
    "h2h.cuda()"
   ]
  },
  {
   "cell_type": "code",
   "execution_count": 397,
   "id": "78d6bf18-e916-4e91-8dc1-75488c7410be",
   "metadata": {},
   "outputs": [],
   "source": [
    "score = nn.Linear(hidden_dim, 1, bias=False)"
   ]
  },
  {
   "cell_type": "code",
   "execution_count": 398,
   "id": "d263db26-98e7-437e-9ac7-cb9f1d96da27",
   "metadata": {},
   "outputs": [
    {
     "data": {
      "text/plain": [
       "Linear(in_features=128, out_features=1, bias=False)"
      ]
     },
     "execution_count": 398,
     "metadata": {},
     "output_type": "execute_result"
    }
   ],
   "source": [
    "score.cuda()"
   ]
  },
  {
   "cell_type": "code",
   "execution_count": 399,
   "id": "c2a68ed4-d19d-472b-8b1e-64ed0e2c8d49",
   "metadata": {},
   "outputs": [],
   "source": [
    "if num_layers == 1:\n",
    "    if cell_type == 'LSTM':\n",
    "        rnn = nn.LSTMCell(src_dim + embedding_dim, hidden_dim)"
   ]
  },
  {
   "cell_type": "code",
   "execution_count": 400,
   "id": "165300d2-88ed-4195-b54a-efc232961fc8",
   "metadata": {},
   "outputs": [
    {
     "data": {
      "text/plain": [
       "LSTMCell(640, 128)"
      ]
     },
     "execution_count": 400,
     "metadata": {},
     "output_type": "execute_result"
    }
   ],
   "source": [
    "rnn.cuda()"
   ]
  },
  {
   "cell_type": "markdown",
   "id": "b1d4b4d3-db0a-4c00-8ae0-6535ef1a9d46",
   "metadata": {},
   "source": [
    "### 3. Forward path"
   ]
  },
  {
   "cell_type": "code",
   "execution_count": 401,
   "id": "d9f45f0a-f12a-4ba5-9194-79f078ee2efb",
   "metadata": {},
   "outputs": [
    {
     "name": "stdout",
     "output_type": "stream",
     "text": [
      "torch.Size([1, 231, 128])\n"
     ]
    }
   ],
   "source": [
    "src_features = i2h(src)\n",
    "print(src_features.shape)"
   ]
  },
  {
   "cell_type": "code",
   "execution_count": 402,
   "id": "e8d5e70b-f40c-4763-af22-d0d8edd16046",
   "metadata": {},
   "outputs": [
    {
     "name": "stdout",
     "output_type": "stream",
     "text": [
      "torch.Size([1, 1, 128])\n"
     ]
    }
   ],
   "source": [
    "prev_hidden_proj = h2h(hidden[0]).unsqueeze(1)\n",
    "print(prev_hidden_proj.shape)"
   ]
  },
  {
   "cell_type": "code",
   "execution_count": 403,
   "id": "272e2ef3-767f-4fb5-b853-a445b759ec8b",
   "metadata": {},
   "outputs": [
    {
     "name": "stdout",
     "output_type": "stream",
     "text": [
      "torch.Size([1, 231, 1])\n"
     ]
    }
   ],
   "source": [
    "attention_logit = score(torch.tanh(src_features + prev_hidden_proj)) \n",
    "print(attention_logit.shape)"
   ]
  },
  {
   "cell_type": "code",
   "execution_count": 404,
   "id": "e31a9d2e-d0d5-4519-9c3b-ed2abb293d0a",
   "metadata": {},
   "outputs": [
    {
     "name": "stdout",
     "output_type": "stream",
     "text": [
      "torch.Size([1, 231, 1])\n"
     ]
    }
   ],
   "source": [
    "alpha = F.softmax(attention_logit, dim=1)\n",
    "print(alpha.shape)"
   ]
  },
  {
   "cell_type": "code",
   "execution_count": 405,
   "id": "cff1856a-bf7d-4f43-a6e8-b394367d416a",
   "metadata": {},
   "outputs": [
    {
     "name": "stdout",
     "output_type": "stream",
     "text": [
      "torch.Size([1, 1, 231])\n",
      "torch.Size([1, 231, 512])\n",
      "torch.Size([1, 512])\n"
     ]
    }
   ],
   "source": [
    "print(alpha.permute(0, 2, 1).shape)\n",
    "print(src.shape)\n",
    "context = torch.bmm(alpha.permute(0, 2, 1), src).squeeze(1)\n",
    "print(context.shape)"
   ]
  },
  {
   "cell_type": "code",
   "execution_count": 406,
   "id": "e25cdff6-de2e-435e-8ffc-92bcf2062f53",
   "metadata": {},
   "outputs": [
    {
     "name": "stdout",
     "output_type": "stream",
     "text": [
      "torch.Size([1, 128])\n",
      "torch.Size([1, 640])\n"
     ]
    }
   ],
   "source": [
    "print(embedd.shape)\n",
    "concat_context = torch.cat([context, embedd], 1)\n",
    "print(concat_context.shape)"
   ]
  },
  {
   "cell_type": "code",
   "execution_count": 407,
   "id": "60c75fb7-1c77-4c2c-a220-afc2d340c020",
   "metadata": {},
   "outputs": [
    {
     "name": "stdout",
     "output_type": "stream",
     "text": [
      "torch.Size([1, 128])\n"
     ]
    }
   ],
   "source": [
    "cur_hidden = rnn(concat_context, hidden)\n",
    "print(cur_hidden[0].shape)"
   ]
  }
 ],
 "metadata": {
  "kernelspec": {
   "display_name": "Python 3",
   "language": "python",
   "name": "python3"
  },
  "language_info": {
   "codemirror_mode": {
    "name": "ipython",
    "version": 3
   },
   "file_extension": ".py",
   "mimetype": "text/x-python",
   "name": "python",
   "nbconvert_exporter": "python",
   "pygments_lexer": "ipython3",
   "version": "3.7.7"
  }
 },
 "nbformat": 4,
 "nbformat_minor": 5
}
